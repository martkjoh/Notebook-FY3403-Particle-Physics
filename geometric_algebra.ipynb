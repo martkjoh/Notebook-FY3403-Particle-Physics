{
 "cells": [
  {
   "cell_type": "code",
   "execution_count": 1,
   "id": "massive-column",
   "metadata": {},
   "outputs": [],
   "source": [
    "import sympy as sp\n",
    "# pip install galgebra\n",
    "import galgebra as ga\n",
    "# Docs: https://galgebra.readthedocs.io/en/latest/index.html\n",
    "import numpy as np\n",
    "\n",
    "from galgebra.ga import Ga\n",
    "from galgebra.printer import latex, GaLatexPrinter\n",
    "\n",
    "# tell sympy to use our printing by default\n",
    "sp.init_printing(latex_printer=latex, use_latex='mathjax')"
   ]
  },
  {
   "cell_type": "code",
   "execution_count": 2,
   "id": "painful-impossible",
   "metadata": {},
   "outputs": [
    {
     "data": {
      "text/latex": [
       "$\\displaystyle \\left[\\begin{array}{cccc}1 & 0 & 0 & 0\\\\0 & -1 & 0 & 0\\\\0 & 0 & -1 & 0\\\\0 & 0 & 0 & -1\\end{array}\\right]$"
      ],
      "text/plain": [
       "Matrix([\n",
       "[1,  0,  0,  0],\n",
       "[0, -1,  0,  0],\n",
       "[0,  0, -1,  0],\n",
       "[0,  0,  0, -1]])"
      ]
     },
     "execution_count": 2,
     "metadata": {},
     "output_type": "execute_result"
    }
   ],
   "source": [
    "basis_str = \"\\gamma^0 \\gamma^1 \\gamma^2 \\gamma^3\"\n",
    "x = sp.symbols(\"x^0 x^1 x^2 x^3\", real=True)\n",
    "cl13 = Ga(basis_str, g=[1, -1, -1, -1], coords=x)\n",
    "g = cl13.g\n",
    "g"
   ]
  },
  {
   "cell_type": "code",
   "execution_count": 3,
   "id": "piano-production",
   "metadata": {},
   "outputs": [
    {
     "data": {
      "text/latex": [
       "\\begin{equation*} V^{x 0}_{1} V^{x 0}_{2} - V^{x 1}_{1} V^{x 1}_{2} - V^{x 2}_{1} V^{x 2}_{2} - V^{x 3}_{1} V^{x 3}_{2} \\end{equation*}"
      ],
      "text/plain": [
       "V_1__x^0*V_2__x^0 - V_1__x^1*V_2__x^1 - V_1__x^2*V_2__x^2 - V_1__x^3*V_2__x^3"
      ]
     },
     "execution_count": 3,
     "metadata": {},
     "output_type": "execute_result"
    }
   ],
   "source": [
    "v1 = cl13.mv(\"V_1\", \"vector\")\n",
    "v2 = cl13.mv(\"V_2\", \"vector\")\n",
    "v2\n",
    "v1 < v2"
   ]
  },
  {
   "cell_type": "code",
   "execution_count": 4,
   "id": "martial-enterprise",
   "metadata": {},
   "outputs": [
    {
     "data": {
      "text/latex": [
       "\\begin{equation*}  0  \\end{equation*}"
      ],
      "text/plain": [
       "0"
      ]
     },
     "execution_count": 4,
     "metadata": {},
     "output_type": "execute_result"
    }
   ],
   "source": [
    "G = cl13.mv()\n",
    "Gnp = np.array(G)\n",
    "type(G[0])\n",
    "G[0].grade()"
   ]
  },
  {
   "cell_type": "code",
   "execution_count": 5,
   "id": "naughty-departure",
   "metadata": {},
   "outputs": [],
   "source": [
    "p = [cl13.mv(\"p_{}\".format(i), \"vector\") for i in range(4)]"
   ]
  },
  {
   "cell_type": "code",
   "execution_count": 6,
   "id": "indonesian-smooth",
   "metadata": {},
   "outputs": [
    {
     "data": {
      "text/latex": [
       "\\begin{equation*} p^{x 0}_{0} p^{x 0}_{1} - p^{x 1}_{0} p^{x 1}_{1} - p^{x 2}_{0} p^{x 2}_{1} - p^{x 3}_{0} p^{x 3}_{1} \\end{equation*}"
      ],
      "text/plain": [
       "p_0__x^0*p_1__x^0 - p_0__x^1*p_1__x^1 - p_0__x^2*p_1__x^2 - p_0__x^3*p_1__x^3"
      ]
     },
     "execution_count": 6,
     "metadata": {},
     "output_type": "execute_result"
    }
   ],
   "source": [
    "(p[0]*p[1]).grade()"
   ]
  },
  {
   "cell_type": "code",
   "execution_count": 7,
   "id": "motivated-pound",
   "metadata": {},
   "outputs": [],
   "source": [
    "def tr(a):\n",
    "    \"\"\" Recursion, baby \"\"\"\n",
    "    if np.shape(a):\n",
    "        for i in range(len(a)):\n",
    "            a[i] = tr(a[i])\n",
    "        return a\n",
    "    else: \n",
    "        return 4 * a.grade()"
   ]
  },
  {
   "cell_type": "code",
   "execution_count": 8,
   "id": "secret-estonia",
   "metadata": {},
   "outputs": [
    {
     "data": {
      "text/latex": [
       "\\begin{equation*} 4 p^{x 0}_{0} p^{x 0}_{1} - 4 p^{x 1}_{0} p^{x 1}_{1} - 4 p^{x 2}_{0} p^{x 2}_{1} - 4 p^{x 3}_{0} p^{x 3}_{1} \\end{equation*}"
      ],
      "text/plain": [
       "4*p_0__x^0*p_1__x^0 - 4*p_0__x^1*p_1__x^1 - 4*p_0__x^2*p_1__x^2 - 4*p_0__x^3*p_1__x^3"
      ]
     },
     "execution_count": 8,
     "metadata": {},
     "output_type": "execute_result"
    }
   ],
   "source": [
    "m = sp.symbols(\"m\")\n",
    "tr(p[0]*(p[1] + m))"
   ]
  },
  {
   "cell_type": "code",
   "execution_count": 9,
   "id": "continued-evaluation",
   "metadata": {},
   "outputs": [
    {
     "data": {
      "text/latex": [
       "\\begin{equation*} 4 p^{x 0}_{0} p^{x 0}_{1} p^{x 0}_{2} p^{x 0}_{3} - 4 p^{x 0}_{0} p^{x 0}_{1} p^{x 1}_{2} p^{x 1}_{3} - 4 p^{x 0}_{0} p^{x 0}_{1} p^{x 2}_{2} p^{x 2}_{3} - 4 p^{x 0}_{0} p^{x 0}_{1} p^{x 3}_{2} p^{x 3}_{3} + 4 p^{x 0}_{0} p^{x 1}_{1} p^{x 0}_{2} p^{x 1}_{3} - 4 p^{x 0}_{0} p^{x 1}_{1} p^{x 1}_{2} p^{x 0}_{3} + 4 p^{x 0}_{0} p^{x 2}_{1} p^{x 0}_{2} p^{x 2}_{3} - 4 p^{x 0}_{0} p^{x 2}_{1} p^{x 2}_{2} p^{x 0}_{3} + 4 p^{x 0}_{0} p^{x 3}_{1} p^{x 0}_{2} p^{x 3}_{3} - 4 p^{x 0}_{0} p^{x 3}_{1} p^{x 3}_{2} p^{x 0}_{3} - 4 p^{x 1}_{0} p^{x 0}_{1} p^{x 0}_{2} p^{x 1}_{3} + 4 p^{x 1}_{0} p^{x 0}_{1} p^{x 1}_{2} p^{x 0}_{3} - 4 p^{x 1}_{0} p^{x 1}_{1} p^{x 0}_{2} p^{x 0}_{3} + 4 p^{x 1}_{0} p^{x 1}_{1} p^{x 1}_{2} p^{x 1}_{3} + 4 p^{x 1}_{0} p^{x 1}_{1} p^{x 2}_{2} p^{x 2}_{3} + 4 p^{x 1}_{0} p^{x 1}_{1} p^{x 3}_{2} p^{x 3}_{3} - 4 p^{x 1}_{0} p^{x 2}_{1} p^{x 1}_{2} p^{x 2}_{3} + 4 p^{x 1}_{0} p^{x 2}_{1} p^{x 2}_{2} p^{x 1}_{3} - 4 p^{x 1}_{0} p^{x 3}_{1} p^{x 1}_{2} p^{x 3}_{3} + 4 p^{x 1}_{0} p^{x 3}_{1} p^{x 3}_{2} p^{x 1}_{3} - 4 p^{x 2}_{0} p^{x 0}_{1} p^{x 0}_{2} p^{x 2}_{3} + 4 p^{x 2}_{0} p^{x 0}_{1} p^{x 2}_{2} p^{x 0}_{3} + 4 p^{x 2}_{0} p^{x 1}_{1} p^{x 1}_{2} p^{x 2}_{3} - 4 p^{x 2}_{0} p^{x 1}_{1} p^{x 2}_{2} p^{x 1}_{3} - 4 p^{x 2}_{0} p^{x 2}_{1} p^{x 0}_{2} p^{x 0}_{3} + 4 p^{x 2}_{0} p^{x 2}_{1} p^{x 1}_{2} p^{x 1}_{3} + 4 p^{x 2}_{0} p^{x 2}_{1} p^{x 2}_{2} p^{x 2}_{3} + 4 p^{x 2}_{0} p^{x 2}_{1} p^{x 3}_{2} p^{x 3}_{3} - 4 p^{x 2}_{0} p^{x 3}_{1} p^{x 2}_{2} p^{x 3}_{3} + 4 p^{x 2}_{0} p^{x 3}_{1} p^{x 3}_{2} p^{x 2}_{3} - 4 p^{x 3}_{0} p^{x 0}_{1} p^{x 0}_{2} p^{x 3}_{3} + 4 p^{x 3}_{0} p^{x 0}_{1} p^{x 3}_{2} p^{x 0}_{3} + 4 p^{x 3}_{0} p^{x 1}_{1} p^{x 1}_{2} p^{x 3}_{3} - 4 p^{x 3}_{0} p^{x 1}_{1} p^{x 3}_{2} p^{x 1}_{3} + 4 p^{x 3}_{0} p^{x 2}_{1} p^{x 2}_{2} p^{x 3}_{3} - 4 p^{x 3}_{0} p^{x 2}_{1} p^{x 3}_{2} p^{x 2}_{3} - 4 p^{x 3}_{0} p^{x 3}_{1} p^{x 0}_{2} p^{x 0}_{3} + 4 p^{x 3}_{0} p^{x 3}_{1} p^{x 1}_{2} p^{x 1}_{3} + 4 p^{x 3}_{0} p^{x 3}_{1} p^{x 2}_{2} p^{x 2}_{3} + 4 p^{x 3}_{0} p^{x 3}_{1} p^{x 3}_{2} p^{x 3}_{3} \\end{equation*}"
      ],
      "text/plain": [
       "4*p_0__x^0*p_1__x^0*p_2__x^0*p_3__x^0 - 4*p_0__x^0*p_1__x^0*p_2__x^1*p_3__x^1 - 4*p_0__x^0*p_1__x^0*p_2__x^2*p_3__x^2 - 4*p_0__x^0*p_1__x^0*p_2__x^3*p_3__x^3 + 4*p_0__x^0*p_1__x^1*p_2__x^0*p_3__x^1 - 4*p_0__x^0*p_1__x^1*p_2__x^1*p_3__x^0 + 4*p_0__x^0*p_1__x^2*p_2__x^0*p_3__x^2 - 4*p_0__x^0*p_1__x^2*p_2__x^2*p_3__x^0 + 4*p_0__x^0*p_1__x^3*p_2__x^0*p_3__x^3 - 4*p_0__x^0*p_1__x^3*p_2__x^3*p_3__x^0 - 4*p_0__x^1*p_1__x^0*p_2__x^0*p_3__x^1 + 4*p_0__x^1*p_1__x^0*p_2__x^1*p_3__x^0 - 4*p_0__x^1*p_1__x^1*p_2__x^0*p_3__x^0 + 4*p_0__x^1*p_1__x^1*p_2__x^1*p_3__x^1 + 4*p_0__x^1*p_1__x^1*p_2__x^2*p_3__x^2 + 4*p_0__x^1*p_1__x^1*p_2__x^3*p_3__x^3 - 4*p_0__x^1*p_1__x^2*p_2__x^1*p_3__x^2 + 4*p_0__x^1*p_1__x^2*p_2__x^2*p_3__x^1 - 4*p_0__x^1*p_1__x^3*p_2__x^1*p_3__x^3 + 4*p_0__x^1*p_1__x^3*p_2__x^3*p_3__x^1 - 4*p_0__x^2*p_1__x^0*p_2__x^0*p_3__x^2 + 4*p_0__x^2*p_1__x^0*p_2__x^2*p_3__x^0 + 4*p_0__x^2*p_1__x^1*p_2__x^1*p_3__x^2 - 4*p_0__x^2*p_1__x^1*p_2__x^2*p_3__x^1 - 4*p_0__x^2*p_1__x^2*p_2__x^0*p_3__x^0 + 4*p_0__x^2*p_1__x^2*p_2__x^1*p_3__x^1 + 4*p_0__x^2*p_1__x^2*p_2__x^2*p_3__x^2 + 4*p_0__x^2*p_1__x^2*p_2__x^3*p_3__x^3 - 4*p_0__x^2*p_1__x^3*p_2__x^2*p_3__x^3 + 4*p_0__x^2*p_1__x^3*p_2__x^3*p_3__x^2 - 4*p_0__x^3*p_1__x^0*p_2__x^0*p_3__x^3 + 4*p_0__x^3*p_1__x^0*p_2__x^3*p_3__x^0 + 4*p_0__x^3*p_1__x^1*p_2__x^1*p_3__x^3 - 4*p_0__x^3*p_1__x^1*p_2__x^3*p_3__x^1 + 4*p_0__x^3*p_1__x^2*p_2__x^2*p_3__x^3 - 4*p_0__x^3*p_1__x^2*p_2__x^3*p_3__x^2 - 4*p_0__x^3*p_1__x^3*p_2__x^0*p_3__x^0 + 4*p_0__x^3*p_1__x^3*p_2__x^1*p_3__x^1 + 4*p_0__x^3*p_1__x^3*p_2__x^2*p_3__x^2 + 4*p_0__x^3*p_1__x^3*p_2__x^3*p_3__x^3"
      ]
     },
     "execution_count": 9,
     "metadata": {},
     "output_type": "execute_result"
    }
   ],
   "source": [
    "tr(p[0]*p[1]*p[2]*p[3])"
   ]
  },
  {
   "cell_type": "code",
   "execution_count": 10,
   "id": "active-treasury",
   "metadata": {},
   "outputs": [
    {
     "data": {
      "text/latex": [
       "\\begin{equation*} 4 m^{2} p^{x 0}_{0} p^{x 0}_{2} - 4 m^{2} p^{x 1}_{0} p^{x 1}_{2} - 4 m^{2} p^{x 2}_{0} p^{x 2}_{2} - 4 m^{2} p^{x 3}_{0} p^{x 3}_{2} + 4 p^{x 0}_{0} p^{x 0}_{1} p^{x 0}_{2} p^{x 0}_{3} - 4 p^{x 0}_{0} p^{x 0}_{1} p^{x 1}_{2} p^{x 1}_{3} - 4 p^{x 0}_{0} p^{x 0}_{1} p^{x 2}_{2} p^{x 2}_{3} - 4 p^{x 0}_{0} p^{x 0}_{1} p^{x 3}_{2} p^{x 3}_{3} + 4 p^{x 0}_{0} p^{x 1}_{1} p^{x 0}_{2} p^{x 1}_{3} - 4 p^{x 0}_{0} p^{x 1}_{1} p^{x 1}_{2} p^{x 0}_{3} + 4 p^{x 0}_{0} p^{x 2}_{1} p^{x 0}_{2} p^{x 2}_{3} - 4 p^{x 0}_{0} p^{x 2}_{1} p^{x 2}_{2} p^{x 0}_{3} + 4 p^{x 0}_{0} p^{x 3}_{1} p^{x 0}_{2} p^{x 3}_{3} - 4 p^{x 0}_{0} p^{x 3}_{1} p^{x 3}_{2} p^{x 0}_{3} - 4 p^{x 1}_{0} p^{x 0}_{1} p^{x 0}_{2} p^{x 1}_{3} + 4 p^{x 1}_{0} p^{x 0}_{1} p^{x 1}_{2} p^{x 0}_{3} - 4 p^{x 1}_{0} p^{x 1}_{1} p^{x 0}_{2} p^{x 0}_{3} + 4 p^{x 1}_{0} p^{x 1}_{1} p^{x 1}_{2} p^{x 1}_{3} + 4 p^{x 1}_{0} p^{x 1}_{1} p^{x 2}_{2} p^{x 2}_{3} + 4 p^{x 1}_{0} p^{x 1}_{1} p^{x 3}_{2} p^{x 3}_{3} - 4 p^{x 1}_{0} p^{x 2}_{1} p^{x 1}_{2} p^{x 2}_{3} + 4 p^{x 1}_{0} p^{x 2}_{1} p^{x 2}_{2} p^{x 1}_{3} - 4 p^{x 1}_{0} p^{x 3}_{1} p^{x 1}_{2} p^{x 3}_{3} + 4 p^{x 1}_{0} p^{x 3}_{1} p^{x 3}_{2} p^{x 1}_{3} - 4 p^{x 2}_{0} p^{x 0}_{1} p^{x 0}_{2} p^{x 2}_{3} + 4 p^{x 2}_{0} p^{x 0}_{1} p^{x 2}_{2} p^{x 0}_{3} + 4 p^{x 2}_{0} p^{x 1}_{1} p^{x 1}_{2} p^{x 2}_{3} - 4 p^{x 2}_{0} p^{x 1}_{1} p^{x 2}_{2} p^{x 1}_{3} - 4 p^{x 2}_{0} p^{x 2}_{1} p^{x 0}_{2} p^{x 0}_{3} + 4 p^{x 2}_{0} p^{x 2}_{1} p^{x 1}_{2} p^{x 1}_{3} + 4 p^{x 2}_{0} p^{x 2}_{1} p^{x 2}_{2} p^{x 2}_{3} + 4 p^{x 2}_{0} p^{x 2}_{1} p^{x 3}_{2} p^{x 3}_{3} - 4 p^{x 2}_{0} p^{x 3}_{1} p^{x 2}_{2} p^{x 3}_{3} + 4 p^{x 2}_{0} p^{x 3}_{1} p^{x 3}_{2} p^{x 2}_{3} - 4 p^{x 3}_{0} p^{x 0}_{1} p^{x 0}_{2} p^{x 3}_{3} + 4 p^{x 3}_{0} p^{x 0}_{1} p^{x 3}_{2} p^{x 0}_{3} + 4 p^{x 3}_{0} p^{x 1}_{1} p^{x 1}_{2} p^{x 3}_{3} - 4 p^{x 3}_{0} p^{x 1}_{1} p^{x 3}_{2} p^{x 1}_{3} + 4 p^{x 3}_{0} p^{x 2}_{1} p^{x 2}_{2} p^{x 3}_{3} - 4 p^{x 3}_{0} p^{x 2}_{1} p^{x 3}_{2} p^{x 2}_{3} - 4 p^{x 3}_{0} p^{x 3}_{1} p^{x 0}_{2} p^{x 0}_{3} + 4 p^{x 3}_{0} p^{x 3}_{1} p^{x 1}_{2} p^{x 1}_{3} + 4 p^{x 3}_{0} p^{x 3}_{1} p^{x 2}_{2} p^{x 2}_{3} + 4 p^{x 3}_{0} p^{x 3}_{1} p^{x 3}_{2} p^{x 3}_{3} \\end{equation*}"
      ],
      "text/plain": [
       "4*m**2*p_0__x^0*p_2__x^0 - 4*m**2*p_0__x^1*p_2__x^1 - 4*m**2*p_0__x^2*p_2__x^2 - 4*m**2*p_0__x^3*p_2__x^3 + 4*p_0__x^0*p_1__x^0*p_2__x^0*p_3__x^0 - 4*p_0__x^0*p_1__x^0*p_2__x^1*p_3__x^1 - 4*p_0__x^0*p_1__x^0*p_2__x^2*p_3__x^2 - 4*p_0__x^0*p_1__x^0*p_2__x^3*p_3__x^3 + 4*p_0__x^0*p_1__x^1*p_2__x^0*p_3__x^1 - 4*p_0__x^0*p_1__x^1*p_2__x^1*p_3__x^0 + 4*p_0__x^0*p_1__x^2*p_2__x^0*p_3__x^2 - 4*p_0__x^0*p_1__x^2*p_2__x^2*p_3__x^0 + 4*p_0__x^0*p_1__x^3*p_2__x^0*p_3__x^3 - 4*p_0__x^0*p_1__x^3*p_2__x^3*p_3__x^0 - 4*p_0__x^1*p_1__x^0*p_2__x^0*p_3__x^1 + 4*p_0__x^1*p_1__x^0*p_2__x^1*p_3__x^0 - 4*p_0__x^1*p_1__x^1*p_2__x^0*p_3__x^0 + 4*p_0__x^1*p_1__x^1*p_2__x^1*p_3__x^1 + 4*p_0__x^1*p_1__x^1*p_2__x^2*p_3__x^2 + 4*p_0__x^1*p_1__x^1*p_2__x^3*p_3__x^3 - 4*p_0__x^1*p_1__x^2*p_2__x^1*p_3__x^2 + 4*p_0__x^1*p_1__x^2*p_2__x^2*p_3__x^1 - 4*p_0__x^1*p_1__x^3*p_2__x^1*p_3__x^3 + 4*p_0__x^1*p_1__x^3*p_2__x^3*p_3__x^1 - 4*p_0__x^2*p_1__x^0*p_2__x^0*p_3__x^2 + 4*p_0__x^2*p_1__x^0*p_2__x^2*p_3__x^0 + 4*p_0__x^2*p_1__x^1*p_2__x^1*p_3__x^2 - 4*p_0__x^2*p_1__x^1*p_2__x^2*p_3__x^1 - 4*p_0__x^2*p_1__x^2*p_2__x^0*p_3__x^0 + 4*p_0__x^2*p_1__x^2*p_2__x^1*p_3__x^1 + 4*p_0__x^2*p_1__x^2*p_2__x^2*p_3__x^2 + 4*p_0__x^2*p_1__x^2*p_2__x^3*p_3__x^3 - 4*p_0__x^2*p_1__x^3*p_2__x^2*p_3__x^3 + 4*p_0__x^2*p_1__x^3*p_2__x^3*p_3__x^2 - 4*p_0__x^3*p_1__x^0*p_2__x^0*p_3__x^3 + 4*p_0__x^3*p_1__x^0*p_2__x^3*p_3__x^0 + 4*p_0__x^3*p_1__x^1*p_2__x^1*p_3__x^3 - 4*p_0__x^3*p_1__x^1*p_2__x^3*p_3__x^1 + 4*p_0__x^3*p_1__x^2*p_2__x^2*p_3__x^3 - 4*p_0__x^3*p_1__x^2*p_2__x^3*p_3__x^2 - 4*p_0__x^3*p_1__x^3*p_2__x^0*p_3__x^0 + 4*p_0__x^3*p_1__x^3*p_2__x^1*p_3__x^1 + 4*p_0__x^3*p_1__x^3*p_2__x^2*p_3__x^2 + 4*p_0__x^3*p_1__x^3*p_2__x^3*p_3__x^3"
      ]
     },
     "execution_count": 10,
     "metadata": {},
     "output_type": "execute_result"
    }
   ],
   "source": [
    "tr(p[0]*(p[1] + m)*p[2]*(p[3] + m))"
   ]
  },
  {
   "cell_type": "code",
   "execution_count": 11,
   "id": "young-settlement",
   "metadata": {},
   "outputs": [],
   "source": [
    "from IPython.display import display, Latex\n",
    "def pprint(S, name=\"\"):\n",
    "    \"\"\"Print out a single sympy expression\"\"\"\n",
    "    string = \"$$\" \n",
    "    if name!=\"\": string = string + name + \"=\" \n",
    "    string = string + sp.latex(S.simplify()) + \"$$\"\n",
    "    return display(Latex(string))\n",
    "\n",
    "def print2(a):\n",
    "    \"\"\" Recursion, baby \"\"\"\n",
    "    if np.shape(a):\n",
    "        for i in range(len(a)):\n",
    "            print2(a[i])\n",
    "        return a\n",
    "    else: \n",
    "        return pprint(a)"
   ]
  },
  {
   "cell_type": "code",
   "execution_count": 12,
   "id": "ecological-denver",
   "metadata": {},
   "outputs": [
    {
     "data": {
      "text/latex": [
       "$$4 p^{x 0}_{0}$$"
      ],
      "text/plain": [
       "<IPython.core.display.Latex object>"
      ]
     },
     "metadata": {},
     "output_type": "display_data"
    },
    {
     "data": {
      "text/latex": [
       "$$- 4 p^{x 1}_{0}$$"
      ],
      "text/plain": [
       "<IPython.core.display.Latex object>"
      ]
     },
     "metadata": {},
     "output_type": "display_data"
    },
    {
     "data": {
      "text/latex": [
       "$$- 4 p^{x 2}_{0}$$"
      ],
      "text/plain": [
       "<IPython.core.display.Latex object>"
      ]
     },
     "metadata": {},
     "output_type": "display_data"
    },
    {
     "data": {
      "text/latex": [
       "$$- 4 p^{x 3}_{0}$$"
      ],
      "text/plain": [
       "<IPython.core.display.Latex object>"
      ]
     },
     "metadata": {},
     "output_type": "display_data"
    },
    {
     "data": {
      "text/plain": [
       "array([4*p_0__x^0, -4*p_0__x^1, -4*p_0__x^2, -4*p_0__x^3], dtype=object)"
      ]
     },
     "execution_count": 12,
     "metadata": {},
     "output_type": "execute_result"
    }
   ],
   "source": [
    "print2(tr(Gnp*p[0]))"
   ]
  },
  {
   "cell_type": "code",
   "execution_count": 13,
   "id": "regulated-audit",
   "metadata": {},
   "outputs": [
    {
     "data": {
      "text/latex": [
       "$$4 m^{2} + 4 p^{x 0}_{0} p^{x 0}_{2} + 4 p^{x 1}_{0} p^{x 1}_{2} + 4 p^{x 2}_{0} p^{x 2}_{2} + 4 p^{x 3}_{0} p^{x 3}_{2}$$"
      ],
      "text/plain": [
       "<IPython.core.display.Latex object>"
      ]
     },
     "metadata": {},
     "output_type": "display_data"
    },
    {
     "data": {
      "text/latex": [
       "$$- 4 p^{x 0}_{0} p^{x 1}_{2} - 4 p^{x 1}_{0} p^{x 0}_{2}$$"
      ],
      "text/plain": [
       "<IPython.core.display.Latex object>"
      ]
     },
     "metadata": {},
     "output_type": "display_data"
    },
    {
     "data": {
      "text/latex": [
       "$$- 4 p^{x 0}_{0} p^{x 2}_{2} - 4 p^{x 2}_{0} p^{x 0}_{2}$$"
      ],
      "text/plain": [
       "<IPython.core.display.Latex object>"
      ]
     },
     "metadata": {},
     "output_type": "display_data"
    },
    {
     "data": {
      "text/latex": [
       "$$- 4 p^{x 0}_{0} p^{x 3}_{2} - 4 p^{x 3}_{0} p^{x 0}_{2}$$"
      ],
      "text/plain": [
       "<IPython.core.display.Latex object>"
      ]
     },
     "metadata": {},
     "output_type": "display_data"
    },
    {
     "data": {
      "text/latex": [
       "$$- 4 p^{x 0}_{0} p^{x 1}_{2} - 4 p^{x 1}_{0} p^{x 0}_{2}$$"
      ],
      "text/plain": [
       "<IPython.core.display.Latex object>"
      ]
     },
     "metadata": {},
     "output_type": "display_data"
    },
    {
     "data": {
      "text/latex": [
       "$$- 4 m^{2} + 4 p^{x 0}_{0} p^{x 0}_{2} + 4 p^{x 1}_{0} p^{x 1}_{2} - 4 p^{x 2}_{0} p^{x 2}_{2} - 4 p^{x 3}_{0} p^{x 3}_{2}$$"
      ],
      "text/plain": [
       "<IPython.core.display.Latex object>"
      ]
     },
     "metadata": {},
     "output_type": "display_data"
    },
    {
     "data": {
      "text/latex": [
       "$$4 p^{x 1}_{0} p^{x 2}_{2} + 4 p^{x 2}_{0} p^{x 1}_{2}$$"
      ],
      "text/plain": [
       "<IPython.core.display.Latex object>"
      ]
     },
     "metadata": {},
     "output_type": "display_data"
    },
    {
     "data": {
      "text/latex": [
       "$$4 p^{x 1}_{0} p^{x 3}_{2} + 4 p^{x 3}_{0} p^{x 1}_{2}$$"
      ],
      "text/plain": [
       "<IPython.core.display.Latex object>"
      ]
     },
     "metadata": {},
     "output_type": "display_data"
    },
    {
     "data": {
      "text/latex": [
       "$$- 4 p^{x 0}_{0} p^{x 2}_{2} - 4 p^{x 2}_{0} p^{x 0}_{2}$$"
      ],
      "text/plain": [
       "<IPython.core.display.Latex object>"
      ]
     },
     "metadata": {},
     "output_type": "display_data"
    },
    {
     "data": {
      "text/latex": [
       "$$4 p^{x 1}_{0} p^{x 2}_{2} + 4 p^{x 2}_{0} p^{x 1}_{2}$$"
      ],
      "text/plain": [
       "<IPython.core.display.Latex object>"
      ]
     },
     "metadata": {},
     "output_type": "display_data"
    },
    {
     "data": {
      "text/latex": [
       "$$- 4 m^{2} + 4 p^{x 0}_{0} p^{x 0}_{2} - 4 p^{x 1}_{0} p^{x 1}_{2} + 4 p^{x 2}_{0} p^{x 2}_{2} - 4 p^{x 3}_{0} p^{x 3}_{2}$$"
      ],
      "text/plain": [
       "<IPython.core.display.Latex object>"
      ]
     },
     "metadata": {},
     "output_type": "display_data"
    },
    {
     "data": {
      "text/latex": [
       "$$4 p^{x 2}_{0} p^{x 3}_{2} + 4 p^{x 3}_{0} p^{x 2}_{2}$$"
      ],
      "text/plain": [
       "<IPython.core.display.Latex object>"
      ]
     },
     "metadata": {},
     "output_type": "display_data"
    },
    {
     "data": {
      "text/latex": [
       "$$- 4 p^{x 0}_{0} p^{x 3}_{2} - 4 p^{x 3}_{0} p^{x 0}_{2}$$"
      ],
      "text/plain": [
       "<IPython.core.display.Latex object>"
      ]
     },
     "metadata": {},
     "output_type": "display_data"
    },
    {
     "data": {
      "text/latex": [
       "$$4 p^{x 1}_{0} p^{x 3}_{2} + 4 p^{x 3}_{0} p^{x 1}_{2}$$"
      ],
      "text/plain": [
       "<IPython.core.display.Latex object>"
      ]
     },
     "metadata": {},
     "output_type": "display_data"
    },
    {
     "data": {
      "text/latex": [
       "$$4 p^{x 2}_{0} p^{x 3}_{2} + 4 p^{x 3}_{0} p^{x 2}_{2}$$"
      ],
      "text/plain": [
       "<IPython.core.display.Latex object>"
      ]
     },
     "metadata": {},
     "output_type": "display_data"
    },
    {
     "data": {
      "text/latex": [
       "$$- 4 m^{2} + 4 p^{x 0}_{0} p^{x 0}_{2} - 4 p^{x 1}_{0} p^{x 1}_{2} - 4 p^{x 2}_{0} p^{x 2}_{2} + 4 p^{x 3}_{0} p^{x 3}_{2}$$"
      ],
      "text/plain": [
       "<IPython.core.display.Latex object>"
      ]
     },
     "metadata": {},
     "output_type": "display_data"
    },
    {
     "data": {
      "text/plain": [
       "array([[4*m**2 + 4*p_0__x^0*p_2__x^0 + 4*p_0__x^1*p_2__x^1 + 4*p_0__x^2*p_2__x^2 + 4*p_0__x^3*p_2__x^3,\n",
       "        -4*p_0__x^0*p_2__x^1 - 4*p_0__x^1*p_2__x^0,\n",
       "        -4*p_0__x^0*p_2__x^2 - 4*p_0__x^2*p_2__x^0,\n",
       "        -4*p_0__x^0*p_2__x^3 - 4*p_0__x^3*p_2__x^0],\n",
       "       [-4*p_0__x^0*p_2__x^1 - 4*p_0__x^1*p_2__x^0,\n",
       "        -4*m**2 + 4*p_0__x^0*p_2__x^0 + 4*p_0__x^1*p_2__x^1 - 4*p_0__x^2*p_2__x^2 - 4*p_0__x^3*p_2__x^3,\n",
       "        4*p_0__x^1*p_2__x^2 + 4*p_0__x^2*p_2__x^1,\n",
       "        4*p_0__x^1*p_2__x^3 + 4*p_0__x^3*p_2__x^1],\n",
       "       [-4*p_0__x^0*p_2__x^2 - 4*p_0__x^2*p_2__x^0,\n",
       "        4*p_0__x^1*p_2__x^2 + 4*p_0__x^2*p_2__x^1,\n",
       "        -4*m**2 + 4*p_0__x^0*p_2__x^0 - 4*p_0__x^1*p_2__x^1 + 4*p_0__x^2*p_2__x^2 - 4*p_0__x^3*p_2__x^3,\n",
       "        4*p_0__x^2*p_2__x^3 + 4*p_0__x^3*p_2__x^2],\n",
       "       [-4*p_0__x^0*p_2__x^3 - 4*p_0__x^3*p_2__x^0,\n",
       "        4*p_0__x^1*p_2__x^3 + 4*p_0__x^3*p_2__x^1,\n",
       "        4*p_0__x^2*p_2__x^3 + 4*p_0__x^3*p_2__x^2,\n",
       "        -4*m**2 + 4*p_0__x^0*p_2__x^0 - 4*p_0__x^1*p_2__x^1 - 4*p_0__x^2*p_2__x^2 + 4*p_0__x^3*p_2__x^3]],\n",
       "      dtype=object)"
      ]
     },
     "execution_count": 13,
     "metadata": {},
     "output_type": "execute_result"
    }
   ],
   "source": [
    "a = np.outer(Gnp*(p[0] + m),  Gnp*(p[2] + m))\n",
    "print2(tr(a))"
   ]
  },
  {
   "cell_type": "code",
   "execution_count": 14,
   "id": "tired-relation",
   "metadata": {},
   "outputs": [],
   "source": [
    "a = np.outer(Gnp*(p[0] + m),  Gnp*(p[2] + m))\n",
    "b = np.outer(Gnp*(p[1] + m),  Gnp*(p[3] + m))\n",
    "c = np.sum(tr(a) * tr(b))"
   ]
  },
  {
   "cell_type": "code",
   "execution_count": 16,
   "id": "ranging-quality",
   "metadata": {},
   "outputs": [
    {
     "data": {
      "text/latex": [
       "$$64 m^{4} - 32 m^{2} p^{x 0}_{0} p^{x 0}_{2} + 32 m^{2} p^{x 1}_{0} p^{x 1}_{2} + 32 m^{2} p^{x 2}_{0} p^{x 2}_{2} + 32 m^{2} p^{x 3}_{0} p^{x 3}_{2} - 32 m^{2} p^{x 0}_{1} p^{x 0}_{3} + 32 m^{2} p^{x 1}_{1} p^{x 1}_{3} + 32 m^{2} p^{x 2}_{1} p^{x 2}_{3} + 32 m^{2} p^{x 3}_{1} p^{x 3}_{3} + 64 p^{x 0}_{0} p^{x 0}_{1} p^{x 0}_{2} p^{x 0}_{3} + 32 p^{x 0}_{0} p^{x 0}_{1} p^{x 1}_{2} p^{x 1}_{3} + 32 p^{x 0}_{0} p^{x 0}_{1} p^{x 2}_{2} p^{x 2}_{3} + 32 p^{x 0}_{0} p^{x 0}_{1} p^{x 3}_{2} p^{x 3}_{3} + 32 p^{x 0}_{0} p^{x 1}_{1} p^{x 1}_{2} p^{x 0}_{3} + 32 p^{x 0}_{0} p^{x 2}_{1} p^{x 2}_{2} p^{x 0}_{3} + 32 p^{x 0}_{0} p^{x 3}_{1} p^{x 3}_{2} p^{x 0}_{3} + 32 p^{x 1}_{0} p^{x 0}_{1} p^{x 0}_{2} p^{x 1}_{3} + 32 p^{x 1}_{0} p^{x 1}_{1} p^{x 0}_{2} p^{x 0}_{3} + 64 p^{x 1}_{0} p^{x 1}_{1} p^{x 1}_{2} p^{x 1}_{3} + 32 p^{x 1}_{0} p^{x 1}_{1} p^{x 2}_{2} p^{x 2}_{3} + 32 p^{x 1}_{0} p^{x 1}_{1} p^{x 3}_{2} p^{x 3}_{3} + 32 p^{x 1}_{0} p^{x 2}_{1} p^{x 2}_{2} p^{x 1}_{3} + 32 p^{x 1}_{0} p^{x 3}_{1} p^{x 3}_{2} p^{x 1}_{3} + 32 p^{x 2}_{0} p^{x 0}_{1} p^{x 0}_{2} p^{x 2}_{3} + 32 p^{x 2}_{0} p^{x 1}_{1} p^{x 1}_{2} p^{x 2}_{3} + 32 p^{x 2}_{0} p^{x 2}_{1} p^{x 0}_{2} p^{x 0}_{3} + 32 p^{x 2}_{0} p^{x 2}_{1} p^{x 1}_{2} p^{x 1}_{3} + 64 p^{x 2}_{0} p^{x 2}_{1} p^{x 2}_{2} p^{x 2}_{3} + 32 p^{x 2}_{0} p^{x 2}_{1} p^{x 3}_{2} p^{x 3}_{3} + 32 p^{x 2}_{0} p^{x 3}_{1} p^{x 3}_{2} p^{x 2}_{3} + 32 p^{x 3}_{0} p^{x 0}_{1} p^{x 0}_{2} p^{x 3}_{3} + 32 p^{x 3}_{0} p^{x 1}_{1} p^{x 1}_{2} p^{x 3}_{3} + 32 p^{x 3}_{0} p^{x 2}_{1} p^{x 2}_{2} p^{x 3}_{3} + 32 p^{x 3}_{0} p^{x 3}_{1} p^{x 0}_{2} p^{x 0}_{3} + 32 p^{x 3}_{0} p^{x 3}_{1} p^{x 1}_{2} p^{x 1}_{3} + 32 p^{x 3}_{0} p^{x 3}_{1} p^{x 2}_{2} p^{x 2}_{3} + 64 p^{x 3}_{0} p^{x 3}_{1} p^{x 3}_{2} p^{x 3}_{3}$$"
      ],
      "text/plain": [
       "<IPython.core.display.Latex object>"
      ]
     },
     "metadata": {},
     "output_type": "display_data"
    }
   ],
   "source": [
    "print2(c)"
   ]
  }
 ],
 "metadata": {
  "kernelspec": {
   "display_name": "Python 3",
   "language": "python",
   "name": "python3"
  },
  "language_info": {
   "codemirror_mode": {
    "name": "ipython",
    "version": 3
   },
   "file_extension": ".py",
   "mimetype": "text/x-python",
   "name": "python",
   "nbconvert_exporter": "python",
   "pygments_lexer": "ipython3",
   "version": "3.8.5"
  }
 },
 "nbformat": 4,
 "nbformat_minor": 5
}
