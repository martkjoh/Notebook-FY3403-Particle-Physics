{
 "cells": [
  {
   "cell_type": "code",
   "execution_count": 7,
   "id": "industrial-wichita",
   "metadata": {},
   "outputs": [],
   "source": [
    "import sympy as sp\n",
    "# pip install galgebra\n",
    "import galgebra as ga\n",
    "# Docs: https://galgebra.readthedocs.io/en/latest/index.html\n",
    "\n",
    "from galgebra.ga import Ga\n",
    "from galgebra.printer import latex\n",
    "\n",
    "# tell sympy to use our printing by default\n",
    "sp.init_printing(latex_printer=latex, use_latex='mathjax')"
   ]
  },
  {
   "cell_type": "code",
   "execution_count": 9,
   "id": "blocked-kruger",
   "metadata": {},
   "outputs": [
    {
     "data": {
      "text/latex": [
       "$\\displaystyle \\left[\\begin{array}{cccc}1 & 0 & 0 & 0\\\\0 & -1 & 0 & 0\\\\0 & 0 & -1 & 0\\\\0 & 0 & 0 & -1\\end{array}\\right]$"
      ],
      "text/plain": [
       "Matrix([\n",
       "[1,  0,  0,  0],\n",
       "[0, -1,  0,  0],\n",
       "[0,  0, -1,  0],\n",
       "[0,  0,  0, -1]])"
      ]
     },
     "execution_count": 9,
     "metadata": {},
     "output_type": "execute_result"
    }
   ],
   "source": [
    "basis_str = \"\\gamma^0 \\gamma^1 \\gamma^2 \\gamma^3\"\n",
    "x = sp.symbols(\"x^0 x^1 x^2 x^3\", real=True)\n",
    "cl13 = Ga(basis_str, g=[1, -1, -1, -1])\n",
    "g = cl13.g\n",
    "g"
   ]
  },
  {
   "cell_type": "code",
   "execution_count": 11,
   "id": "unsigned-majority",
   "metadata": {},
   "outputs": [
    {
     "data": {
      "text/latex": [
       "\\begin{equation*} V = V^{1} \\boldsymbol{\\gamma}^{0} + V^{2} \\boldsymbol{\\gamma}^{1} + V^{3} \\boldsymbol{\\gamma}^{2} + V^{4} \\boldsymbol{\\gamma}^{3} \\end{equation*}"
      ],
      "text/plain": [
       "V__1*\\gamma^0 + V__2*\\gamma^1 + V__3*\\gamma^2 + V__4*\\gamma^3"
      ]
     },
     "execution_count": 11,
     "metadata": {},
     "output_type": "execute_result"
    }
   ],
   "source": [
    "v = cl13.mv(\"V\", \"vector\")\n",
    "v"
   ]
  },
  {
   "cell_type": "code",
   "execution_count": 12,
   "id": "funded-mixture",
   "metadata": {},
   "outputs": [
    {
     "data": {
      "text/latex": [
       "$\\displaystyle \\left[ \\boldsymbol{\\gamma}^{0}, \\  \\boldsymbol{\\gamma}^{1}, \\  \\boldsymbol{\\gamma}^{2}, \\  \\boldsymbol{\\gamma}^{3}\\right]$"
      ],
      "text/plain": [
       "[\\gamma⁰, \\gamma¹, \\gamma², \\gamma³]"
      ]
     },
     "execution_count": 12,
     "metadata": {},
     "output_type": "execute_result"
    }
   ],
   "source": [
    "G = cl13.basis\n",
    "G"
   ]
  },
  {
   "cell_type": "code",
   "execution_count": 17,
   "id": "lesbian-chorus",
   "metadata": {},
   "outputs": [
    {
     "data": {
      "text/latex": [
       "$\\displaystyle 2 \\left(\\boldsymbol{\\gamma}^{0} \\boldsymbol{\\gamma}^{1} + \\boldsymbol{\\gamma}^{0} \\boldsymbol{\\gamma}^{2} + \\boldsymbol{\\gamma}^{0} \\boldsymbol{\\gamma}^{3} + {\\left ( \\boldsymbol{\\gamma}^{0} \\right )}^{2} + \\boldsymbol{\\gamma}^{1} \\boldsymbol{\\gamma}^{0} + \\boldsymbol{\\gamma}^{1} \\boldsymbol{\\gamma}^{2} + \\boldsymbol{\\gamma}^{1} \\boldsymbol{\\gamma}^{3} + {\\left ( \\boldsymbol{\\gamma}^{1} \\right )}^{2} + \\boldsymbol{\\gamma}^{2} \\boldsymbol{\\gamma}^{0} + \\boldsymbol{\\gamma}^{2} \\boldsymbol{\\gamma}^{1} + \\boldsymbol{\\gamma}^{2} \\boldsymbol{\\gamma}^{3} + {\\left ( \\boldsymbol{\\gamma}^{2} \\right )}^{2} + \\boldsymbol{\\gamma}^{3} \\boldsymbol{\\gamma}^{0} + \\boldsymbol{\\gamma}^{3} \\boldsymbol{\\gamma}^{1} + \\boldsymbol{\\gamma}^{3} \\boldsymbol{\\gamma}^{2} + {\\left ( \\boldsymbol{\\gamma}^{3} \\right )}^{2}\\right)$"
      ],
      "text/plain": [
       "2*(\\gamma^0*\\gamma^1 + \\gamma^0*\\gamma^2 + \\gamma^0*\\gamma^3 + \\gamma^0**2 + \\gamma^1*\\gamma^0 + \\gamma^1*\\gamma^2 + \\gamma^1*\\gamma^3 + \\gamma^1**2 + \\gamma^2*\\gamma^0 + \\gamma^2*\\gamma^1 + \\gamma^2*\\gamma^3 + \\gamma^2**2 + \\gamma^3*\\gamma^0 + \\gamma^3*\\gamma^1 + \\gamma^3*\\gamma^2 + \\gamma^3**2)"
      ]
     },
     "execution_count": 17,
     "metadata": {},
     "output_type": "execute_result"
    }
   ],
   "source": [
    "A = 0\n",
    "for a in G:\n",
    "    for b in G:\n",
    "        A += a * b + b * a\n",
    "sp.simplify(A)"
   ]
  }
 ],
 "metadata": {
  "kernelspec": {
   "display_name": "Python 3",
   "language": "python",
   "name": "python3"
  },
  "language_info": {
   "codemirror_mode": {
    "name": "ipython",
    "version": 3
   },
   "file_extension": ".py",
   "mimetype": "text/x-python",
   "name": "python",
   "nbconvert_exporter": "python",
   "pygments_lexer": "ipython3",
   "version": "3.8.5"
  }
 },
 "nbformat": 4,
 "nbformat_minor": 5
}
