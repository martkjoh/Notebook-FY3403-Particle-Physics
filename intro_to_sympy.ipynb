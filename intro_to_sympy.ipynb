{
 "cells": [
  {
   "cell_type": "markdown",
   "metadata": {},
   "source": [
    "# Intro to sympy\n"
   ]
  },
  {
   "cell_type": "markdown",
   "metadata": {},
   "source": [
    "SymPy is a library that makes it possible to do symbolic calculations in Python. It comes pre-installed with Anaconda, or can be installed with `pip install sympy`."
   ]
  },
  {
   "cell_type": "code",
   "execution_count": 1,
   "metadata": {},
   "outputs": [],
   "source": [
    "import sympy as sp"
   ]
  },
  {
   "cell_type": "markdown",
   "metadata": {},
   "source": [
    "Fisrtly, we can use some of IPythons built in functions to get easily readable and pretty print outs. IPyton allows for LaTeX printout of sympy expressions. If there is only one expression in a cell, the function below is not necessary. However, it is usefull for printing more than one expression."
   ]
  },
  {
   "cell_type": "code",
   "execution_count": 2,
   "metadata": {},
   "outputs": [],
   "source": [
    "from IPython.display import display, Latex\n",
    "\n",
    "def print_expression(S, name=\"\"):\n",
    "    \"\"\"Print out a single sympy expression\"\"\"\n",
    "    string = \"$$\" \n",
    "    if name!=\"\": string = string + name + \"=\" \n",
    "    string = string + sp.latex(S) + \"$$\"\n",
    "    return display(Latex(string))"
   ]
  },
  {
   "cell_type": "markdown",
   "metadata": {},
   "source": [
    "The basic type in sympy is the symbols. Out of these we can make expressions, and manipulate them."
   ]
  },
  {
   "cell_type": "code",
   "execution_count": 3,
   "metadata": {},
   "outputs": [
    {
     "data": {
      "text/latex": [
       "$\\displaystyle x^{2} y + e^{x + y} + 2$"
      ],
      "text/plain": [
       "x**2*y + exp(x + y) + 2"
      ]
     },
     "execution_count": 3,
     "metadata": {},
     "output_type": "execute_result"
    }
   ],
   "source": [
    "a, b, c, x, y, z = sp.symbols(\"a, b, c, x, y, z\")\n",
    "f = 2 + x**2*y + sp.exp(x + y)\n",
    "f"
   ]
  },
  {
   "cell_type": "code",
   "execution_count": 4,
   "metadata": {},
   "outputs": [
    {
     "data": {
      "text/latex": [
       "$\\displaystyle 2 x + e^{x + y}$"
      ],
      "text/plain": [
       "2*x + exp(x + y)"
      ]
     },
     "execution_count": 4,
     "metadata": {},
     "output_type": "execute_result"
    }
   ],
   "source": [
    "f.diff(x).diff(y)"
   ]
  },
  {
   "cell_type": "code",
   "execution_count": 5,
   "metadata": {},
   "outputs": [
    {
     "data": {
      "text/latex": [
       "$\\displaystyle \\frac{a^{3} y}{3} + 2 a - e^{y} + e^{a + y}$"
      ],
      "text/plain": [
       "a**3*y/3 + 2*a - exp(y) + exp(a + y)"
      ]
     },
     "execution_count": 5,
     "metadata": {},
     "output_type": "execute_result"
    }
   ],
   "source": [
    "sp.integrate(f, (x, 0, a))"
   ]
  },
  {
   "cell_type": "code",
   "execution_count": 6,
   "metadata": {},
   "outputs": [
    {
     "name": "stdout",
     "output_type": "stream",
     "text": [
      "10.38905609893065\n"
     ]
    }
   ],
   "source": [
    "g = sp.lambdify([x, y], f) # make a regular python funciton\n",
    "print(g(1, 1))"
   ]
  },
  {
   "cell_type": "markdown",
   "metadata": {},
   "source": [
    "We can manipulate arbitrary order symbolic arrays with the Array class "
   ]
  },
  {
   "cell_type": "code",
   "execution_count": 7,
   "metadata": {},
   "outputs": [
    {
     "data": {
      "text/latex": [
       "$$\\left[\\begin{matrix}x & x y\\\\\\sin{\\left(x \\right)} & x^{y}\\end{matrix}\\right]$$"
      ],
      "text/plain": [
       "<IPython.core.display.Latex object>"
      ]
     },
     "metadata": {},
     "output_type": "display_data"
    },
    {
     "data": {
      "text/latex": [
       "$$\\left[\\begin{matrix}1 & y\\\\\\cos{\\left(x \\right)} & \\frac{x^{y} y}{x}\\end{matrix}\\right]$$"
      ],
      "text/plain": [
       "<IPython.core.display.Latex object>"
      ]
     },
     "metadata": {},
     "output_type": "display_data"
    },
    {
     "data": {
      "text/latex": [
       "$$\\left[\\begin{matrix}x^{2} & x^{2} y^{2}\\\\\\sin^{2}{\\left(x \\right)} & x^{2 y}\\end{matrix}\\right]$$"
      ],
      "text/plain": [
       "<IPython.core.display.Latex object>"
      ]
     },
     "metadata": {},
     "output_type": "display_data"
    }
   ],
   "source": [
    "A = sp.Array([[x, x*y], [sp.sin(x), x**y]])\n",
    "print_expression(A)\n",
    "\n",
    "# Differentiate all elements of the array\n",
    "print_expression(A.diff(x))\n",
    "\n",
    "# Appøy a function on each element of the array\n",
    "print_expression(A.applyfunc(lambda x : x**2))"
   ]
  },
  {
   "cell_type": "markdown",
   "metadata": {},
   "source": [
    "\n",
    "Matrix product, or a more general contraction of indecies, is done by first a tenosr product, then a contraction. For example, the matrix product $(AB)_{ik} = \\sum_j A_{ij} B_{jk}$ can be done by definining an new array,\n",
    "$$\n",
    "    M_{ijk\\ell} = \\left( A \\otimes B \\right)_{ijk\\ell} = A_{i j} B_{k \\ell},\n",
    "$$\n",
    "Then contracting the middle indecies,\n",
    "$$\n",
    "    (AB)_{ik} = \\sum_j M_{ijjk}\n",
    "$$"
   ]
  },
  {
   "cell_type": "code",
   "execution_count": 8,
   "metadata": {},
   "outputs": [
    {
     "data": {
      "text/latex": [
       "$$\\left[\\begin{matrix}x^{3} + x y^{2} & x y e^{\\frac{y}{x}} + x \\left(- x + y\\right)\\\\x^{2} \\sin{\\left(x \\right)} + x^{y} y & x^{y} e^{\\frac{y}{x}} + \\left(- x + y\\right) \\sin{\\left(x \\right)}\\end{matrix}\\right]$$"
      ],
      "text/plain": [
       "<IPython.core.display.Latex object>"
      ]
     },
     "metadata": {},
     "output_type": "display_data"
    }
   ],
   "source": [
    "from sympy import tensorproduct as tp\n",
    "from sympy import tensorcontraction as tc\n",
    "\n",
    "B = sp.Array([[x**2, y - x], [y, sp.exp(y/x)]])\n",
    "\n",
    "print_expression(tc(tp(A, B), (1, 2)))"
   ]
  },
  {
   "cell_type": "markdown",
   "metadata": {},
   "source": [
    "If the array is 2D ($n\\times m$) there is more funcitonality like eigenvectors and eigenvalues, in the `Matrix` calss. This array is not quite as rich as the numpy array. You can numpy arrays with sympy symbols, if anything is missing.\n",
    "\n",
    "Indexed objects gives the possibility manipulate tensors with symbolic indecies, wich ranges from $0$ to $n - 1$"
   ]
  },
  {
   "cell_type": "code",
   "execution_count": 9,
   "metadata": {},
   "outputs": [],
   "source": [
    "# Horrible hack to print indexed objects, courtesy StackOverflow: \n",
    "# https://stackoverflow.com/questions/61470842/strange-printing-in-sympy-for-indexed-variables\n",
    "# This breaks the print_expression function :(\n",
    "\n",
    "from sympy import *\n",
    "from sympy.printing.latex import LatexPrinter\n",
    "\n",
    "class CustomLatexPrinter(LatexPrinter):\n",
    "    def _print_Idx(self, expr):\n",
    "        return expr.name\n",
    "\n",
    "    @classmethod\n",
    "    def printer(cls, expr, **kwargs):\n",
    "        return cls(kwargs).doprint(expr)\n",
    "\n",
    "init_printing(use_latex='mathjax', latex_printer=CustomLatexPrinter.printer)"
   ]
  },
  {
   "cell_type": "code",
   "execution_count": 10,
   "metadata": {},
   "outputs": [
    {
     "data": {
      "text/latex": [
       "$\\displaystyle \\delta_{i j}$"
      ],
      "text/plain": [
       "δ   \n",
       " i,j"
      ]
     },
     "execution_count": 10,
     "metadata": {},
     "output_type": "execute_result"
    }
   ],
   "source": [
    "i, j, m, n = sp.symbols(\"i, j, m, n\", integer=True)\n",
    "i = sp.Idx(i, n)    # A symbolic index\n",
    "j = sp.Idx(j, n)\n",
    "z = sp.IndexedBase(\"z\")    # An object with indecies, like a tensor\n",
    "z[i].diff(z[j])"
   ]
  },
  {
   "cell_type": "code",
   "execution_count": 11,
   "metadata": {},
   "outputs": [
    {
     "data": {
      "text/latex": [
       "$\\displaystyle \\sqrt{\\sum_{i=0}^{n - 1} {z}_{i}^{2}}$"
      ],
      "text/plain": [
       "         _____________\n",
       "        ╱ n - 1       \n",
       "       ╱   ___        \n",
       "      ╱    ╲          \n",
       "     ╱      ╲       2 \n",
       "    ╱       ╱   z[i]  \n",
       "   ╱       ╱          \n",
       "  ╱        ‾‾‾        \n",
       "╲╱        i = 0       "
      ]
     },
     "execution_count": 11,
     "metadata": {},
     "output_type": "execute_result"
    }
   ],
   "source": [
    "f = sp.sqrt(sp.Sum(z[i]**2, (i, 0, n-1)))\n",
    "f"
   ]
  },
  {
   "cell_type": "code",
   "execution_count": 12,
   "metadata": {},
   "outputs": [
    {
     "data": {
      "text/latex": [
       "$\\displaystyle \\frac{\\sum_{i=0}^{n - 1} 2 \\delta_{i j} {z}_{i}}{2 \\sqrt{\\sum_{i=0}^{n - 1} {z}_{i}^{2}}}$"
      ],
      "text/plain": [
       "   n - 1                \n",
       "    ___                 \n",
       "    ╲                   \n",
       "     ╲   2⋅δ   ⋅z[i]    \n",
       "     ╱      i,j         \n",
       "    ╱                   \n",
       "    ‾‾‾                 \n",
       "   i = 0                \n",
       "────────────────────────\n",
       "           _____________\n",
       "          ╱ n - 1       \n",
       "         ╱   ___        \n",
       "        ╱    ╲          \n",
       "       ╱      ╲       2 \n",
       "2⋅    ╱       ╱   z[i]  \n",
       "     ╱       ╱          \n",
       "    ╱        ‾‾‾        \n",
       "  ╲╱        i = 0       "
      ]
     },
     "execution_count": 12,
     "metadata": {},
     "output_type": "execute_result"
    }
   ],
   "source": [
    "f.diff(z[j])"
   ]
  }
 ],
 "metadata": {
  "kernelspec": {
   "display_name": "Python 3.8.5 64-bit",
   "language": "python",
   "name": "python38564bit3931715d8eef4b53802a78250b9b28cf"
  },
  "language_info": {
   "codemirror_mode": {
    "name": "ipython",
    "version": 3
   },
   "file_extension": ".py",
   "mimetype": "text/x-python",
   "name": "python",
   "nbconvert_exporter": "python",
   "pygments_lexer": "ipython3",
   "version": "3.8.5"
  }
 },
 "nbformat": 4,
 "nbformat_minor": 4
}
