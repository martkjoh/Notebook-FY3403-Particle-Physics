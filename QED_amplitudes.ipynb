{
 "cells": [
  {
   "cell_type": "code",
   "execution_count": 1,
   "metadata": {},
   "outputs": [],
   "source": [
    "import sympy as sp\n",
    "import numpy as np\n",
    "\n",
    "from sympy import I\n",
    "\n",
    "from IPython.display import display, Latex\n",
    "def pprint(S, name=\"\"):\n",
    "    \"\"\"Print out a single sympy expression\"\"\"\n",
    "    string = \"$$\" \n",
    "    if name!=\"\": string = string + name + \"=\" \n",
    "    string = string + sp.latex(S) + \"$$\"\n",
    "    return display(Latex(string))"
   ]
  },
  {
   "cell_type": "code",
   "execution_count": 2,
   "metadata": {},
   "outputs": [
    {
     "data": {
      "text/latex": [
       "$\\displaystyle \\left[\\begin{matrix}1 & 0 & 0 & 0\\\\0 & -1 & 0 & 0\\\\0 & 0 & -1 & 0\\\\0 & 0 & 0 & -1\\end{matrix}\\right]$"
      ],
      "text/plain": [
       "Matrix([\n",
       "[1,  0,  0,  0],\n",
       "[0, -1,  0,  0],\n",
       "[0,  0, -1,  0],\n",
       "[0,  0,  0, -1]])"
      ]
     },
     "execution_count": 2,
     "metadata": {},
     "output_type": "execute_result"
    }
   ],
   "source": [
    "dim = 4\n",
    "g = sp.Matrix.diag([1, -1, -1, -1])\n",
    "g"
   ]
  },
  {
   "cell_type": "code",
   "execution_count": 3,
   "metadata": {},
   "outputs": [],
   "source": [
    "# Pauli matrices\n",
    "s = np.empty((3, 2, 2), dtype=type(sp.Rational(1)))\n",
    "\n",
    "one = sp.Rational(1)\n",
    "s[0] = np.array([\n",
    "    [0, one],\n",
    "    [one, 0]\n",
    "])\n",
    "s[1] = np.array([\n",
    "    [0, -I],\n",
    "    [I, 0]\n",
    "])\n",
    "s[2] = np.array([\n",
    "    [one, 0],\n",
    "    [0, -one]\n",
    "])"
   ]
  },
  {
   "cell_type": "code",
   "execution_count": 4,
   "metadata": {},
   "outputs": [
    {
     "data": {
      "text/latex": [
       "$\\displaystyle \\left[\\begin{matrix}\\left[\\begin{matrix}1 & 0 & 0 & 0\\\\0 & 1 & 0 & 0\\\\0 & 0 & -1 & 0\\\\0 & 0 & 0 & -1\\end{matrix}\\right] & \\left[\\begin{matrix}0 & 0 & 0 & 1\\\\0 & 0 & 1 & 0\\\\0 & -1 & 0 & 0\\\\-1 & 0 & 0 & 0\\end{matrix}\\right] & \\left[\\begin{matrix}0 & 0 & 0 & - i\\\\0 & 0 & i & 0\\\\0 & i & 0 & 0\\\\- i & 0 & 0 & 0\\end{matrix}\\right] & \\left[\\begin{matrix}0 & 0 & 1 & 0\\\\0 & 0 & 0 & -1\\\\-1 & 0 & 0 & 0\\\\0 & 1 & 0 & 0\\end{matrix}\\right]\\end{matrix}\\right]$"
      ],
      "text/plain": [
       "[[[1, 0, 0, 0], [0, 1, 0, 0], [0, 0, -1, 0], [0, 0, 0, -1]], [[0, 0, 0, 1], [0, 0, 1, 0], [0, -1, 0, 0], [-1, 0, 0, 0]], [[0, 0, 0, -I], [0, 0, I, 0], [0, I, 0, 0], [-I, 0, 0, 0]], [[0, 0, 1, 0], [0, 0, 0, -1], [-1, 0, 0, 0], [0, 1, 0, 0]]]"
      ]
     },
     "execution_count": 4,
     "metadata": {},
     "output_type": "execute_result"
    }
   ],
   "source": [
    "# Dirac matricies\n",
    "\n",
    "Oh = np.zeros((2, 2), dtype=type(sp.Rational))\n",
    "eye = np.identity(2, dtype=type(sp.Rational))\n",
    "\n",
    "γ = np.empty((dim, dim, dim), dtype=type(sp.Rational(1)))\n",
    "γ[0] = np.block([\n",
    "    [eye, Oh],\n",
    "    [Oh, -eye]\n",
    "])\n",
    "\n",
    "for i in range(3):\n",
    "    γ[i + 1] = np.block([\n",
    "        [Oh, s[i]],\n",
    "        [-s[i], Oh]\n",
    "    ])\n",
    "    \n",
    "γ = sp.Array(γ)\n",
    "γ"
   ]
  },
  {
   "cell_type": "code",
   "execution_count": 5,
   "metadata": {},
   "outputs": [
    {
     "data": {
      "text/latex": [
       "$\\displaystyle \\left[\\begin{matrix}0 & 0 & 1 & 0\\\\0 & 0 & 0 & 1\\\\1 & 0 & 0 & 0\\\\0 & 1 & 0 & 0\\end{matrix}\\right]$"
      ],
      "text/plain": [
       "Matrix([\n",
       "[0, 0, 1, 0],\n",
       "[0, 0, 0, 1],\n",
       "[1, 0, 0, 0],\n",
       "[0, 1, 0, 0]])"
      ]
     },
     "execution_count": 5,
     "metadata": {},
     "output_type": "execute_result"
    }
   ],
   "source": [
    "γ5 = I\n",
    "for mat in γ:\n",
    "    γ5 *= sp.Matrix(mat)\n",
    "γ5"
   ]
  },
  {
   "cell_type": "code",
   "execution_count": 6,
   "metadata": {},
   "outputs": [],
   "source": [
    "from sympy import tensorproduct as tp\n",
    "from sympy import tensorcontraction as tc\n",
    "\n",
    "def prod(A, v):\n",
    "    return tc(tp(A, v), (1, 2))\n",
    "\n",
    "def dot(v1, v2):\n",
    "    return tc(tp(v1, v2), (0, 1))\n",
    "\n",
    "def sum(lst):\n",
    "    \"\"\" Must overwrite built in to sum sybols, for some reason \"\"\"\n",
    "    s = 0\n",
    "    for l in lst:\n",
    "        s += l\n",
    "    return s"
   ]
  },
  {
   "cell_type": "code",
   "execution_count": 7,
   "metadata": {},
   "outputs": [],
   "source": [
    "def slash(a):\n",
    "    slasha = 0 * γ[0]\n",
    "    for i in range(dim):\n",
    "        slasha += γ[i] * g[i, i] * a[i]\n",
    "    return slasha\n",
    "\n",
    "\n",
    "def Tr(lst):\n",
    "    global γ\n",
    "    \n",
    "    free_indx = [γ == a for a in lst]\n",
    "    A = lst[0]\n",
    "    for i, a in enumerate(lst[1:]):\n",
    "        A = tp(A, a)\n",
    "        i1 = sum(free_indx[:i+1])\n",
    "        i2 = sum(free_indx[:i+2])\n",
    "        A = tc(A, (1 + i1, i2 + 2))\n",
    "\n",
    "    last = len(A.shape) - 1\n",
    "    first = free_indx[0] + 0\n",
    "    return tc(A, (first, last))"
   ]
  },
  {
   "cell_type": "markdown",
   "metadata": {},
   "source": [
    "# Mott scattering\n",
    "\n",
    "The first Feynmann diagram for electron-muon scattering gives, after using Casimirs trick, the amplitude\n",
    "$$\n",
    "\\langle | \\mathcal{M} |^2 \\rangle = \\frac{g_e^4}{4 (p_1 - p_4)^2} \\mathrm{Tr}\\left[ \\gamma^\\mu (\\gamma_\\nu p_3^\\nu - m) \\gamma^\\sigma (\\gamma_\\rho p_1^\\rho - m) \\right] \\mathrm{Tr}\\left[ \\gamma_\\mu (\\gamma_\\nu p_2^\\nu - m) \\gamma_\\sigma (\\gamma_\\rho p_4^\\rho - m) \\right]\n",
    "$$"
   ]
  },
  {
   "cell_type": "code",
   "execution_count": 8,
   "metadata": {},
   "outputs": [],
   "source": [
    "num_vec = 4\n",
    "p = sp.Array([\n",
    "    sp.symbols(\"p^{\" + str(i) + \"}_\" + str(j)) for j in range(num_vec) \n",
    "    for i in range(dim)\n",
    "]).reshape(num_vec, dim)\n",
    "\n",
    "p_ = sp.Array([prod(g, p[i]) for i in range(num_vec)])"
   ]
  },
  {
   "cell_type": "code",
   "execution_count": 9,
   "metadata": {},
   "outputs": [
    {
     "data": {
      "text/latex": [
       "$\\displaystyle \\left[\\begin{matrix}- m_{1} + p^{0}_0 & 0 & - p^{3}_0 & - p^{1}_0 + i p^{2}_0\\\\0 & - m_{1} + p^{0}_0 & - p^{1}_0 - i p^{2}_0 & p^{3}_0\\\\p^{3}_0 & p^{1}_0 - i p^{2}_0 & - m_{1} - p^{0}_0 & 0\\\\p^{1}_0 + i p^{2}_0 & - p^{3}_0 & 0 & - m_{1} - p^{0}_0\\end{matrix}\\right]$"
      ],
      "text/plain": [
       "[[-m_1 + p^{0}_0, 0, -p^{3}_0, -p^{1}_0 + I*p^{2}_0], [0, -m_1 + p^{0}_0, -p^{1}_0 - I*p^{2}_0, p^{3}_0], [p^{3}_0, p^{1}_0 - I*p^{2}_0, -m_1 - p^{0}_0, 0], [p^{1}_0 + I*p^{2}_0, -p^{3}_0, 0, -m_1 - p^{0}_0]]"
      ]
     },
     "execution_count": 9,
     "metadata": {},
     "output_type": "execute_result"
    }
   ],
   "source": [
    "m1, m2 = sp.symbols(\"m_1, m_2\")\n",
    "Id = sp.Array(sp.eye(4))\n",
    "slash(p[0]) - m1 * Id"
   ]
  },
  {
   "cell_type": "code",
   "execution_count": 10,
   "metadata": {},
   "outputs": [],
   "source": [
    "M1 = Tr((γ, slash(p[0]) - m1 * Id, γ, slash(p[2]) - m1 * Id))\n",
    "M2 = Tr((γ, slash(p[1]) - m2 * Id, γ, slash(p[3]) - m2 * Id))\n",
    "M2_ = prod(g, prod(M2, g))"
   ]
  },
  {
   "cell_type": "code",
   "execution_count": 11,
   "metadata": {},
   "outputs": [
    {
     "data": {
      "text/latex": [
       "$\\displaystyle \\frac{g_{e}^{4}}{4 \\left(- \\left(p^{0}_0 - p^{0}_2\\right)^{2} + \\left(p^{1}_0 - p^{1}_2\\right)^{2} + \\left(p^{2}_0 - p^{2}_2\\right)^{2} + \\left(p^{3}_0 - p^{3}_2\\right)^{2}\\right)^{2}}$"
      ],
      "text/plain": [
       "g_e**4/(4*(-(p^{0}_0 - p^{0}_2)**2 + (p^{1}_0 - p^{1}_2)**2 + (p^{2}_0 - p^{2}_2)**2 + (p^{3}_0 - p^{3}_2)**2)**2)"
      ]
     },
     "execution_count": 11,
     "metadata": {},
     "output_type": "execute_result"
    }
   ],
   "source": [
    "ge = sp.symbols(\"g_e\")\n",
    "coeff = ge**4 /(4 * dot(p[0] - p[2], p_[0] - p_[2])**2)\n",
    "sp.simplify(coeff)"
   ]
  },
  {
   "cell_type": "code",
   "execution_count": 12,
   "metadata": {},
   "outputs": [
    {
     "data": {
      "text/latex": [
       "$\\displaystyle \\frac{g_{e}^{4} \\left(- 2 \\left(- \\left(p^{1}_0 - i p^{2}_0\\right) \\left(p^{1}_2 - i p^{2}_2\\right) + \\left(p^{1}_0 + i p^{2}_0\\right) \\left(p^{1}_2 + i p^{2}_2\\right)\\right) \\left(- \\left(p^{1}_1 - i p^{2}_1\\right) \\left(p^{1}_3 - i p^{2}_3\\right) + \\left(p^{1}_1 + i p^{2}_1\\right) \\left(p^{1}_3 + i p^{2}_3\\right)\\right) + 2 \\left(p^{3}_0 \\left(m_{1} - p^{0}_2\\right) - p^{3}_0 \\left(m_{1} + p^{0}_2\\right) + p^{3}_2 \\left(m_{1} - p^{0}_0\\right) - p^{3}_2 \\left(m_{1} + p^{0}_0\\right)\\right) \\left(- p^{3}_1 \\left(m_{2} - p^{0}_3\\right) + p^{3}_1 \\left(m_{2} + p^{0}_3\\right) - p^{3}_3 \\left(m_{2} - p^{0}_1\\right) + p^{3}_3 \\left(m_{2} + p^{0}_1\\right)\\right) - 2 \\left(- p^{3}_0 \\left(p^{1}_2 - i p^{2}_2\\right) + p^{3}_0 \\left(p^{1}_2 + i p^{2}_2\\right) - p^{3}_2 \\left(p^{1}_0 - i p^{2}_0\\right) + p^{3}_2 \\left(p^{1}_0 + i p^{2}_0\\right)\\right) \\left(- p^{3}_1 \\left(p^{1}_3 - i p^{2}_3\\right) + p^{3}_1 \\left(p^{1}_3 + i p^{2}_3\\right) - p^{3}_3 \\left(p^{1}_1 - i p^{2}_1\\right) + p^{3}_3 \\left(p^{1}_1 + i p^{2}_1\\right)\\right) + 2 \\left(p^{3}_0 \\left(p^{1}_2 - i p^{2}_2\\right) + p^{3}_0 \\left(p^{1}_2 + i p^{2}_2\\right) + p^{3}_2 \\left(p^{1}_0 - i p^{2}_0\\right) + p^{3}_2 \\left(p^{1}_0 + i p^{2}_0\\right)\\right) \\left(p^{3}_1 \\left(p^{1}_3 - i p^{2}_3\\right) + p^{3}_1 \\left(p^{1}_3 + i p^{2}_3\\right) + p^{3}_3 \\left(p^{1}_1 - i p^{2}_1\\right) + p^{3}_3 \\left(p^{1}_1 + i p^{2}_1\\right)\\right) + \\left(- 2 p^{3}_0 p^{3}_2 + \\left(m_{1} - p^{0}_0\\right) \\left(m_{1} + p^{0}_2\\right) + \\left(m_{1} + p^{0}_0\\right) \\left(m_{1} - p^{0}_2\\right) + \\left(p^{1}_0 - i p^{2}_0\\right) \\left(p^{1}_2 + i p^{2}_2\\right) + \\left(p^{1}_0 + i p^{2}_0\\right) \\left(p^{1}_2 - i p^{2}_2\\right)\\right) \\left(- 2 p^{3}_1 p^{3}_3 + \\left(m_{2} - p^{0}_1\\right) \\left(m_{2} + p^{0}_3\\right) + \\left(m_{2} + p^{0}_1\\right) \\left(m_{2} - p^{0}_3\\right) + \\left(p^{1}_1 - i p^{2}_1\\right) \\left(p^{1}_3 + i p^{2}_3\\right) + \\left(p^{1}_1 + i p^{2}_1\\right) \\left(p^{1}_3 - i p^{2}_3\\right)\\right) + \\left(2 p^{3}_0 p^{3}_2 + \\left(m_{1} - p^{0}_0\\right) \\left(m_{1} - p^{0}_2\\right) + \\left(m_{1} + p^{0}_0\\right) \\left(m_{1} + p^{0}_2\\right) + \\left(p^{1}_0 - i p^{2}_0\\right) \\left(p^{1}_2 + i p^{2}_2\\right) + \\left(p^{1}_0 + i p^{2}_0\\right) \\left(p^{1}_2 - i p^{2}_2\\right)\\right) \\left(2 p^{3}_1 p^{3}_3 + \\left(m_{2} - p^{0}_1\\right) \\left(m_{2} - p^{0}_3\\right) + \\left(m_{2} + p^{0}_1\\right) \\left(m_{2} + p^{0}_3\\right) + \\left(p^{1}_1 - i p^{2}_1\\right) \\left(p^{1}_3 + i p^{2}_3\\right) + \\left(p^{1}_1 + i p^{2}_1\\right) \\left(p^{1}_3 - i p^{2}_3\\right)\\right) + \\left(2 p^{3}_0 p^{3}_2 + \\left(m_{1} - p^{0}_0\\right) \\left(m_{1} + p^{0}_2\\right) + \\left(m_{1} + p^{0}_0\\right) \\left(m_{1} - p^{0}_2\\right) - \\left(p^{1}_0 - i p^{2}_0\\right) \\left(p^{1}_2 - i p^{2}_2\\right) - \\left(p^{1}_0 + i p^{2}_0\\right) \\left(p^{1}_2 + i p^{2}_2\\right)\\right) \\left(2 p^{3}_1 p^{3}_3 + \\left(m_{2} - p^{0}_1\\right) \\left(m_{2} + p^{0}_3\\right) + \\left(m_{2} + p^{0}_1\\right) \\left(m_{2} - p^{0}_3\\right) - \\left(p^{1}_1 - i p^{2}_1\\right) \\left(p^{1}_3 - i p^{2}_3\\right) - \\left(p^{1}_1 + i p^{2}_1\\right) \\left(p^{1}_3 + i p^{2}_3\\right)\\right) + \\left(2 p^{3}_0 p^{3}_2 + \\left(m_{1} - p^{0}_0\\right) \\left(m_{1} + p^{0}_2\\right) + \\left(m_{1} + p^{0}_0\\right) \\left(m_{1} - p^{0}_2\\right) + \\left(p^{1}_0 - i p^{2}_0\\right) \\left(p^{1}_2 - i p^{2}_2\\right) + \\left(p^{1}_0 + i p^{2}_0\\right) \\left(p^{1}_2 + i p^{2}_2\\right)\\right) \\left(2 p^{3}_1 p^{3}_3 + \\left(m_{2} - p^{0}_1\\right) \\left(m_{2} + p^{0}_3\\right) + \\left(m_{2} + p^{0}_1\\right) \\left(m_{2} - p^{0}_3\\right) + \\left(p^{1}_1 - i p^{2}_1\\right) \\left(p^{1}_3 - i p^{2}_3\\right) + \\left(p^{1}_1 + i p^{2}_1\\right) \\left(p^{1}_3 + i p^{2}_3\\right)\\right) + \\frac{\\left(\\left(m_{1} - p^{0}_0\\right) \\left(p^{1}_2 - i p^{2}_2\\right) - \\left(m_{1} - p^{0}_0\\right) \\left(p^{1}_2 + i p^{2}_2\\right) - \\left(m_{1} + p^{0}_0\\right) \\left(p^{1}_2 - i p^{2}_2\\right) + \\left(m_{1} + p^{0}_0\\right) \\left(p^{1}_2 + i p^{2}_2\\right) + \\left(m_{1} - p^{0}_2\\right) \\left(p^{1}_0 - i p^{2}_0\\right) - \\left(m_{1} - p^{0}_2\\right) \\left(p^{1}_0 + i p^{2}_0\\right) - \\left(m_{1} + p^{0}_2\\right) \\left(p^{1}_0 - i p^{2}_0\\right) + \\left(m_{1} + p^{0}_2\\right) \\left(p^{1}_0 + i p^{2}_0\\right)\\right) \\left(\\left(m_{2} - p^{0}_1\\right) \\left(p^{1}_3 - i p^{2}_3\\right) - \\left(m_{2} - p^{0}_1\\right) \\left(p^{1}_3 + i p^{2}_3\\right) - \\left(m_{2} + p^{0}_1\\right) \\left(p^{1}_3 - i p^{2}_3\\right) + \\left(m_{2} + p^{0}_1\\right) \\left(p^{1}_3 + i p^{2}_3\\right) + \\left(m_{2} - p^{0}_3\\right) \\left(p^{1}_1 - i p^{2}_1\\right) - \\left(m_{2} - p^{0}_3\\right) \\left(p^{1}_1 + i p^{2}_1\\right) - \\left(m_{2} + p^{0}_3\\right) \\left(p^{1}_1 - i p^{2}_1\\right) + \\left(m_{2} + p^{0}_3\\right) \\left(p^{1}_1 + i p^{2}_1\\right)\\right)}{2} + \\frac{\\left(\\left(m_{1} - p^{0}_0\\right) \\left(p^{1}_2 - i p^{2}_2\\right) + \\left(m_{1} - p^{0}_0\\right) \\left(p^{1}_2 + i p^{2}_2\\right) - \\left(m_{1} + p^{0}_0\\right) \\left(p^{1}_2 - i p^{2}_2\\right) - \\left(m_{1} + p^{0}_0\\right) \\left(p^{1}_2 + i p^{2}_2\\right) + \\left(m_{1} - p^{0}_2\\right) \\left(p^{1}_0 - i p^{2}_0\\right) + \\left(m_{1} - p^{0}_2\\right) \\left(p^{1}_0 + i p^{2}_0\\right) - \\left(m_{1} + p^{0}_2\\right) \\left(p^{1}_0 - i p^{2}_0\\right) - \\left(m_{1} + p^{0}_2\\right) \\left(p^{1}_0 + i p^{2}_0\\right)\\right) \\left(- \\left(m_{2} - p^{0}_1\\right) \\left(p^{1}_3 - i p^{2}_3\\right) - \\left(m_{2} - p^{0}_1\\right) \\left(p^{1}_3 + i p^{2}_3\\right) + \\left(m_{2} + p^{0}_1\\right) \\left(p^{1}_3 - i p^{2}_3\\right) + \\left(m_{2} + p^{0}_1\\right) \\left(p^{1}_3 + i p^{2}_3\\right) - \\left(m_{2} - p^{0}_3\\right) \\left(p^{1}_1 - i p^{2}_1\\right) - \\left(m_{2} - p^{0}_3\\right) \\left(p^{1}_1 + i p^{2}_1\\right) + \\left(m_{2} + p^{0}_3\\right) \\left(p^{1}_1 - i p^{2}_1\\right) + \\left(m_{2} + p^{0}_3\\right) \\left(p^{1}_1 + i p^{2}_1\\right)\\right)}{2}\\right)}{\\left(- \\left(p^{0}_0 - p^{0}_2\\right)^{2} + \\left(p^{1}_0 - p^{1}_2\\right)^{2} + \\left(p^{2}_0 - p^{2}_2\\right)^{2} + \\left(p^{3}_0 - p^{3}_2\\right)^{2}\\right)^{2}}$"
      ],
      "text/plain": [
       "g_e**4*(-2*(-(p^{1}_0 - I*p^{2}_0)*(p^{1}_2 - I*p^{2}_2) + (p^{1}_0 + I*p^{2}_0)*(p^{1}_2 + I*p^{2}_2))*(-(p^{1}_1 - I*p^{2}_1)*(p^{1}_3 - I*p^{2}_3) + (p^{1}_1 + I*p^{2}_1)*(p^{1}_3 + I*p^{2}_3)) + 2*(p^{3}_0*(m_1 - p^{0}_2) - p^{3}_0*(m_1 + p^{0}_2) + p^{3}_2*(m_1 - p^{0}_0) - p^{3}_2*(m_1 + p^{0}_0))*(-p^{3}_1*(m_2 - p^{0}_3) + p^{3}_1*(m_2 + p^{0}_3) - p^{3}_3*(m_2 - p^{0}_1) + p^{3}_3*(m_2 + p^{0}_1)) - 2*(-p^{3}_0*(p^{1}_2 - I*p^{2}_2) + p^{3}_0*(p^{1}_2 + I*p^{2}_2) - p^{3}_2*(p^{1}_0 - I*p^{2}_0) + p^{3}_2*(p^{1}_0 + I*p^{2}_0))*(-p^{3}_1*(p^{1}_3 - I*p^{2}_3) + p^{3}_1*(p^{1}_3 + I*p^{2}_3) - p^{3}_3*(p^{1}_1 - I*p^{2}_1) + p^{3}_3*(p^{1}_1 + I*p^{2}_1)) + 2*(p^{3}_0*(p^{1}_2 - I*p^{2}_2) + p^{3}_0*(p^{1}_2 + I*p^{2}_2) + p^{3}_2*(p^{1}_0 - I*p^{2}_0) + p^{3}_2*(p^{1}_0 + I*p^{2}_0))*(p^{3}_1*(p^{1}_3 - I*p^{2}_3) + p^{3}_1*(p^{1}_3 + I*p^{2}_3) + p^{3}_3*(p^{1}_1 - I*p^{2}_1) + p^{3}_3*(p^{1}_1 + I*p^{2}_1)) + (-2*p^{3}_0*p^{3}_2 + (m_1 - p^{0}_0)*(m_1 + p^{0}_2) + (m_1 + p^{0}_0)*(m_1 - p^{0}_2) + (p^{1}_0 - I*p^{2}_0)*(p^{1}_2 + I*p^{2}_2) + (p^{1}_0 + I*p^{2}_0)*(p^{1}_2 - I*p^{2}_2))*(-2*p^{3}_1*p^{3}_3 + (m_2 - p^{0}_1)*(m_2 + p^{0}_3) + (m_2 + p^{0}_1)*(m_2 - p^{0}_3) + (p^{1}_1 - I*p^{2}_1)*(p^{1}_3 + I*p^{2}_3) + (p^{1}_1 + I*p^{2}_1)*(p^{1}_3 - I*p^{2}_3)) + (2*p^{3}_0*p^{3}_2 + (m_1 - p^{0}_0)*(m_1 - p^{0}_2) + (m_1 + p^{0}_0)*(m_1 + p^{0}_2) + (p^{1}_0 - I*p^{2}_0)*(p^{1}_2 + I*p^{2}_2) + (p^{1}_0 + I*p^{2}_0)*(p^{1}_2 - I*p^{2}_2))*(2*p^{3}_1*p^{3}_3 + (m_2 - p^{0}_1)*(m_2 - p^{0}_3) + (m_2 + p^{0}_1)*(m_2 + p^{0}_3) + (p^{1}_1 - I*p^{2}_1)*(p^{1}_3 + I*p^{2}_3) + (p^{1}_1 + I*p^{2}_1)*(p^{1}_3 - I*p^{2}_3)) + (2*p^{3}_0*p^{3}_2 + (m_1 - p^{0}_0)*(m_1 + p^{0}_2) + (m_1 + p^{0}_0)*(m_1 - p^{0}_2) - (p^{1}_0 - I*p^{2}_0)*(p^{1}_2 - I*p^{2}_2) - (p^{1}_0 + I*p^{2}_0)*(p^{1}_2 + I*p^{2}_2))*(2*p^{3}_1*p^{3}_3 + (m_2 - p^{0}_1)*(m_2 + p^{0}_3) + (m_2 + p^{0}_1)*(m_2 - p^{0}_3) - (p^{1}_1 - I*p^{2}_1)*(p^{1}_3 - I*p^{2}_3) - (p^{1}_1 + I*p^{2}_1)*(p^{1}_3 + I*p^{2}_3)) + (2*p^{3}_0*p^{3}_2 + (m_1 - p^{0}_0)*(m_1 + p^{0}_2) + (m_1 + p^{0}_0)*(m_1 - p^{0}_2) + (p^{1}_0 - I*p^{2}_0)*(p^{1}_2 - I*p^{2}_2) + (p^{1}_0 + I*p^{2}_0)*(p^{1}_2 + I*p^{2}_2))*(2*p^{3}_1*p^{3}_3 + (m_2 - p^{0}_1)*(m_2 + p^{0}_3) + (m_2 + p^{0}_1)*(m_2 - p^{0}_3) + (p^{1}_1 - I*p^{2}_1)*(p^{1}_3 - I*p^{2}_3) + (p^{1}_1 + I*p^{2}_1)*(p^{1}_3 + I*p^{2}_3)) + ((m_1 - p^{0}_0)*(p^{1}_2 - I*p^{2}_2) - (m_1 - p^{0}_0)*(p^{1}_2 + I*p^{2}_2) - (m_1 + p^{0}_0)*(p^{1}_2 - I*p^{2}_2) + (m_1 + p^{0}_0)*(p^{1}_2 + I*p^{2}_2) + (m_1 - p^{0}_2)*(p^{1}_0 - I*p^{2}_0) - (m_1 - p^{0}_2)*(p^{1}_0 + I*p^{2}_0) - (m_1 + p^{0}_2)*(p^{1}_0 - I*p^{2}_0) + (m_1 + p^{0}_2)*(p^{1}_0 + I*p^{2}_0))*((m_2 - p^{0}_1)*(p^{1}_3 - I*p^{2}_3) - (m_2 - p^{0}_1)*(p^{1}_3 + I*p^{2}_3) - (m_2 + p^{0}_1)*(p^{1}_3 - I*p^{2}_3) + (m_2 + p^{0}_1)*(p^{1}_3 + I*p^{2}_3) + (m_2 - p^{0}_3)*(p^{1}_1 - I*p^{2}_1) - (m_2 - p^{0}_3)*(p^{1}_1 + I*p^{2}_1) - (m_2 + p^{0}_3)*(p^{1}_1 - I*p^{2}_1) + (m_2 + p^{0}_3)*(p^{1}_1 + I*p^{2}_1))/2 + ((m_1 - p^{0}_0)*(p^{1}_2 - I*p^{2}_2) + (m_1 - p^{0}_0)*(p^{1}_2 + I*p^{2}_2) - (m_1 + p^{0}_0)*(p^{1}_2 - I*p^{2}_2) - (m_1 + p^{0}_0)*(p^{1}_2 + I*p^{2}_2) + (m_1 - p^{0}_2)*(p^{1}_0 - I*p^{2}_0) + (m_1 - p^{0}_2)*(p^{1}_0 + I*p^{2}_0) - (m_1 + p^{0}_2)*(p^{1}_0 - I*p^{2}_0) - (m_1 + p^{0}_2)*(p^{1}_0 + I*p^{2}_0))*(-(m_2 - p^{0}_1)*(p^{1}_3 - I*p^{2}_3) - (m_2 - p^{0}_1)*(p^{1}_3 + I*p^{2}_3) + (m_2 + p^{0}_1)*(p^{1}_3 - I*p^{2}_3) + (m_2 + p^{0}_1)*(p^{1}_3 + I*p^{2}_3) - (m_2 - p^{0}_3)*(p^{1}_1 - I*p^{2}_1) - (m_2 - p^{0}_3)*(p^{1}_1 + I*p^{2}_1) + (m_2 + p^{0}_3)*(p^{1}_1 - I*p^{2}_1) + (m_2 + p^{0}_3)*(p^{1}_1 + I*p^{2}_1))/2)/(-(p^{0}_0 - p^{0}_2)**2 + (p^{1}_0 - p^{1}_2)**2 + (p^{2}_0 - p^{2}_2)**2 + (p^{3}_0 - p^{3}_2)**2)**2"
      ]
     },
     "execution_count": 12,
     "metadata": {},
     "output_type": "execute_result"
    }
   ],
   "source": [
    "M = coeff * tc(tc(tp(M1, M2_), (0, 3)), (0, 1))\n",
    "sp.simplify(M)"
   ]
  },
  {
   "cell_type": "markdown",
   "metadata": {},
   "source": [
    "What a horrible mess! However, we may insert give som explisit values for the momenta. For example, we can set\n",
    "$$\n",
    "    p^{(1)} =  [E, p, 0, 0] \\\\\n",
    "    p^{(2)} = [M, 0, 0, 0] \\\\\n",
    "    p^{(3)} = [E, p \\cos(\\theta), p \\sin(\\theta), 0]\\\\\n",
    "    p^{(4)} = [M, 0, 0, 0] \\\\\n",
    "$$"
   ]
  },
  {
   "cell_type": "code",
   "execution_count": 13,
   "metadata": {},
   "outputs": [
    {
     "data": {
      "text/latex": [
       "$\\displaystyle \\left[\\begin{matrix}E & p & 0 & 0\\\\m_{2} & 0 & 0 & 0\\\\E & p \\cos{\\left(\\theta \\right)} & p \\sin{\\left(\\theta \\right)} & 0\\\\m_{2} & 0 & 0 & 0\\end{matrix}\\right]$"
      ],
      "text/plain": [
       "[[E, p, 0, 0], [m_2, 0, 0, 0], [E, p*cos(\\theta), p*sin(\\theta), 0], [m_2, 0, 0, 0]]"
      ]
     },
     "execution_count": 13,
     "metadata": {},
     "output_type": "execute_result"
    }
   ],
   "source": [
    "E, P, theta = sp.symbols(\"E, p, \\\\theta\")\n",
    "\n",
    "p_vals = sp.Array([\n",
    "    [E, P, 0, 0],\n",
    "    [m2, 0, 0, 0],\n",
    "    [E, P * sp.cos(theta), P * sp.sin(theta), 0],\n",
    "    [m2, 0, 0, 0]\n",
    "])\n",
    "p_vals"
   ]
  },
  {
   "cell_type": "code",
   "execution_count": 14,
   "metadata": {},
   "outputs": [
    {
     "data": {
      "text/latex": [
       "$\\displaystyle p^{4} \\left(2 - 2 \\cos{\\left(\\theta \\right)}\\right)^{2}$"
      ],
      "text/plain": [
       "p**4*(2 - 2*cos(\\theta))**2"
      ]
     },
     "execution_count": 14,
     "metadata": {},
     "output_type": "execute_result"
    }
   ],
   "source": [
    "v = p_vals[0] - p_vals[2]\n",
    "v_ = prod(g, v)\n",
    "sp.simplify(dot(v, v_)**2)"
   ]
  },
  {
   "cell_type": "code",
   "execution_count": 15,
   "metadata": {},
   "outputs": [
    {
     "data": {
      "text/latex": [
       "$\\displaystyle \\frac{2 g_{e}^{4} m_{2}^{2} \\left(2 m_{1}^{2} + p^{2} \\cos{\\left(\\theta \\right)} + p^{2}\\right)}{p^{4} \\left(\\cos{\\left(\\theta \\right)} - 1\\right)^{2}}$"
      ],
      "text/plain": [
       "2*g_e**4*m_2**2*(2*m_1**2 + p**2*cos(\\theta) + p**2)/(p**4*(cos(\\theta) - 1)**2)"
      ]
     },
     "execution_count": 15,
     "metadata": {},
     "output_type": "execute_result"
    }
   ],
   "source": [
    "Ms = M\n",
    "for i in range(num_vec):\n",
    "    for j in range(dim):\n",
    "        Ms = Ms.subs(p[i, j], p_vals[i, j])\n",
    "    \n",
    "sp.simplify(Ms.subs(E, sp.sqrt(m1**2 + P**2)))"
   ]
  }
 ],
 "metadata": {
  "kernelspec": {
   "display_name": "Python 3",
   "language": "python",
   "name": "python3"
  },
  "language_info": {
   "codemirror_mode": {
    "name": "ipython",
    "version": 3
   },
   "file_extension": ".py",
   "mimetype": "text/x-python",
   "name": "python",
   "nbconvert_exporter": "python",
   "pygments_lexer": "ipython3",
   "version": "3.8.5"
  }
 },
 "nbformat": 4,
 "nbformat_minor": 4
}
