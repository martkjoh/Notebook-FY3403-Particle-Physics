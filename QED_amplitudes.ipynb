{
 "cells": [
  {
   "cell_type": "markdown",
   "metadata": {},
   "source": [
    "# QED calcutations using SymPy"
   ]
  },
  {
   "cell_type": "code",
   "execution_count": 1,
   "metadata": {},
   "outputs": [],
   "source": [
    "import sympy as sp\n",
    "import numpy as np\n",
    "\n",
    "from sympy import I\n",
    "\n",
    "from IPython.display import display, Latex\n",
    "def pprint(S, name=\"\"):\n",
    "    \"\"\"Print out a single sympy expression\"\"\"\n",
    "    string = \"$$\" \n",
    "    if name!=\"\": string = string + name + \"=\" \n",
    "    string = string + sp.latex(S) + \"$$\"\n",
    "    return display(Latex(string))"
   ]
  },
  {
   "cell_type": "markdown",
   "metadata": {},
   "source": [
    "To do QED, we need some setup first. First, we need the metric tensor."
   ]
  },
  {
   "cell_type": "code",
   "execution_count": 2,
   "metadata": {},
   "outputs": [
    {
     "data": {
      "text/latex": [
       "$\\displaystyle \\left[\\begin{matrix}1 & 0 & 0 & 0\\\\0 & -1 & 0 & 0\\\\0 & 0 & -1 & 0\\\\0 & 0 & 0 & -1\\end{matrix}\\right]$"
      ],
      "text/plain": [
       "Matrix([\n",
       "[1,  0,  0,  0],\n",
       "[0, -1,  0,  0],\n",
       "[0,  0, -1,  0],\n",
       "[0,  0,  0, -1]])"
      ]
     },
     "execution_count": 2,
     "metadata": {},
     "output_type": "execute_result"
    }
   ],
   "source": [
    "dim = 4\n",
    "g = sp.Matrix.diag([1, -1, -1, -1])\n",
    "g"
   ]
  },
  {
   "cell_type": "markdown",
   "metadata": {},
   "source": [
    "We also a representation of the gamma matrices. These can either be defined directly from their anticomutating relations,\n",
    "$$\n",
    "    \\{\\gamma^\\mu, \\gamma^\\nu\\} = 2 g^{\\mu\\nu}\n",
    "$$\n",
    "or they can be written out explicitly as matrices:\n",
    "$$\n",
    "    \\gamma^0 = \\\n",
    "    \\begin{pmatrix}\n",
    "        I_2 & 0 \\\\\n",
    "        0 & - I_2\n",
    "    \\end{pmatrix}, \\quad\n",
    "        \\gamma^i = \\\n",
    "    \\begin{pmatrix}\n",
    "        0 & \\sigma^i \\\\\n",
    "        -\\sigma^i & 0\n",
    "    \\end{pmatrix}.\n",
    "$$\n",
    "There is a sympy module for an abstract representation of the  [gamma matrix](https://docs.sympy.org/latest/modules/physics/hep/index.html). This will be often preferable, due as the matrix multiplication can get messy quickly. However, due to some lacking features in the sympy library (mainly the fact that there is no implementation of $\\gamma^5$), we will be using an explicit matrix representation. We will follow the conventions of Grifftihs' \"Introduction to Elementary Particles\". "
   ]
  },
  {
   "cell_type": "code",
   "execution_count": 3,
   "metadata": {},
   "outputs": [],
   "source": [
    "# Pauli matrices\n",
    "s = np.empty((3, 2, 2), dtype=type(sp.Rational(1)))\n",
    "\n",
    "one = sp.Rational(1)\n",
    "s[0] = np.array([\n",
    "    [0, one],\n",
    "    [one, 0]\n",
    "])\n",
    "s[1] = np.array([\n",
    "    [0, -I],\n",
    "    [I, 0]\n",
    "])\n",
    "s[2] = np.array([\n",
    "    [one, 0],\n",
    "    [0, -one]\n",
    "])"
   ]
  },
  {
   "cell_type": "markdown",
   "metadata": {},
   "source": [
    "The reason for using numpy arrays to construct the gamma matrices is that the standard sympy.Array type is not mutable, i.e. once constructed, they cannot be change. One could always make new copies, but the NumPy approache is sometimes more convinient."
   ]
  },
  {
   "cell_type": "code",
   "execution_count": 4,
   "metadata": {},
   "outputs": [
    {
     "data": {
      "text/latex": [
       "$\\displaystyle \\left[\\begin{matrix}\\left[\\begin{matrix}1 & 0 & 0 & 0\\\\0 & 1 & 0 & 0\\\\0 & 0 & -1 & 0\\\\0 & 0 & 0 & -1\\end{matrix}\\right] & \\left[\\begin{matrix}0 & 0 & 0 & 1\\\\0 & 0 & 1 & 0\\\\0 & -1 & 0 & 0\\\\-1 & 0 & 0 & 0\\end{matrix}\\right] & \\left[\\begin{matrix}0 & 0 & 0 & - i\\\\0 & 0 & i & 0\\\\0 & i & 0 & 0\\\\- i & 0 & 0 & 0\\end{matrix}\\right] & \\left[\\begin{matrix}0 & 0 & 1 & 0\\\\0 & 0 & 0 & -1\\\\-1 & 0 & 0 & 0\\\\0 & 1 & 0 & 0\\end{matrix}\\right]\\end{matrix}\\right]$"
      ],
      "text/plain": [
       "[[[1, 0, 0, 0], [0, 1, 0, 0], [0, 0, -1, 0], [0, 0, 0, -1]], [[0, 0, 0, 1], [0, 0, 1, 0], [0, -1, 0, 0], [-1, 0, 0, 0]], [[0, 0, 0, -I], [0, 0, I, 0], [0, I, 0, 0], [-I, 0, 0, 0]], [[0, 0, 1, 0], [0, 0, 0, -1], [-1, 0, 0, 0], [0, 1, 0, 0]]]"
      ]
     },
     "execution_count": 4,
     "metadata": {},
     "output_type": "execute_result"
    }
   ],
   "source": [
    "# Dirac matricies\n",
    "\n",
    "Oh = np.zeros((2, 2), dtype=type(sp.Rational))\n",
    "eye = np.identity(2, dtype=type(sp.Rational))\n",
    "\n",
    "γ = np.empty((dim, dim, dim), dtype=type(sp.Rational(1)))\n",
    "γ[0] = np.block([\n",
    "    [eye, Oh],\n",
    "    [Oh, -eye]\n",
    "])\n",
    "\n",
    "for i in range(3):\n",
    "    γ[i + 1] = np.block([\n",
    "        [Oh, s[i]],\n",
    "        [-s[i], Oh]\n",
    "    ])\n",
    "    \n",
    "γ = sp.Array(γ)\n",
    "γ"
   ]
  },
  {
   "cell_type": "code",
   "execution_count": 5,
   "metadata": {},
   "outputs": [
    {
     "data": {
      "text/latex": [
       "$\\displaystyle \\left[\\begin{matrix}0 & 0 & 1 & 0\\\\0 & 0 & 0 & 1\\\\1 & 0 & 0 & 0\\\\0 & 1 & 0 & 0\\end{matrix}\\right]$"
      ],
      "text/plain": [
       "Matrix([\n",
       "[0, 0, 1, 0],\n",
       "[0, 0, 0, 1],\n",
       "[1, 0, 0, 0],\n",
       "[0, 1, 0, 0]])"
      ]
     },
     "execution_count": 5,
     "metadata": {},
     "output_type": "execute_result"
    }
   ],
   "source": [
    "γ5 = I\n",
    "for mat in γ:\n",
    "    γ5 *= sp.Matrix(mat)\n",
    "γ5"
   ]
  },
  {
   "cell_type": "markdown",
   "metadata": {},
   "source": [
    "Then we need some functions to manipulate matricies, vectors and such."
   ]
  },
  {
   "cell_type": "code",
   "execution_count": 6,
   "metadata": {},
   "outputs": [],
   "source": [
    "from sympy import tensorproduct as tp\n",
    "from sympy import tensorcontraction as tc\n",
    "\n",
    "def prod(A, v):\n",
    "    return tc(tp(A, v), (1, 2))\n",
    "\n",
    "def dot(v1, v2):\n",
    "    return tc(tp(v1, v2), (0, 1))\n",
    "\n",
    "def sum(lst):\n",
    "    \"\"\" Must overwrite built in to sum sybols, for some reason \"\"\"\n",
    "    s = 0\n",
    "    for l in lst:\n",
    "        s += l\n",
    "    return s"
   ]
  },
  {
   "cell_type": "markdown",
   "metadata": {},
   "source": [
    "`slash(a)` will return $a^\\mu \\gamma_\\mu = a^\\mu g_{\\mu\\nu}\\gamma^\\nu $"
   ]
  },
  {
   "cell_type": "code",
   "execution_count": 7,
   "metadata": {},
   "outputs": [],
   "source": [
    "def slash(a):\n",
    "    slasha = 0 * γ[0]\n",
    "    for i in range(dim):\n",
    "        slasha += γ[i] * g[i, i] * a[i]\n",
    "    return slasha"
   ]
  },
  {
   "cell_type": "markdown",
   "metadata": {},
   "source": [
    "The most important feature is the trace function. We could implement a function that only works for expressions of the type $\\mathrm{Tr}(\\gamma^\\mu \\gamma^\\nu \\gamma^\\sigma \\gamma^\\rho)$. However, if we are even more abitious we would like to also handle $\\mathrm{Tr}((\\gamma^\\mu p_ \\mu - m) \\gamma^\\nu)$, where some of the internal space-time indices are contracted, while others are not. To do this, we remember that there are two types of indices, the space time indices $\\mu, \\nu ...$ but also the internal indices of the gamma matrices. Therefore we can write $\\mathrm{Tr}(\\gamma^\\mu_{ij} \\gamma^\\nu_{jk}) = \\gamma^\\mu_{ij} \\gamma^\\nu_{ji}$, where Einstein summation is used also on the internal $ij$ indices.\n",
    "\n",
    "The function below takes in a list of matrices, contracted or not, which are to be traced, An example is `(γ, slas(p1), γ, slash(p2))`. It makes a list indicating where the free indices are present, that is uncontracted space-time indices. Then we take the first element of the objects to be traced, and contract the the second internal index with the first of the next obejct. The `i1, i2` objects are to make sure that we skip the free indices. Lastly, we must contract the first and last internal indices, finalizing the trace. This function then returns a SymPy array `A[:, :, ...]` with as many indices as there are free space-time indices. As an example, $\\mathrm{Tr}((\\gamma^\\sigma p_\\sigma - m) \\gamma^\\mu(\\gamma^\\rho p_\\rho - m) \\gamma^\\nu)$ would return a 2-dimensional array."
   ]
  },
  {
   "cell_type": "code",
   "execution_count": 8,
   "metadata": {},
   "outputs": [],
   "source": [
    "def Tr(lst):\n",
    "    global γ\n",
    "    \n",
    "    free_indx = [γ == a for a in lst]\n",
    "    A = lst[0]\n",
    "    for i, a in enumerate(lst[1:]):\n",
    "        A = tp(A, a)\n",
    "        i1 = sum(free_indx[:i+1])\n",
    "        i2 = sum(free_indx[:i+2])\n",
    "        A = tc(A, (1 + i1, i2 + 2))\n",
    "\n",
    "    last = len(A.shape) - 1\n",
    "    first = free_indx[0] + 0\n",
    "    return tc(A, (first, last))"
   ]
  },
  {
   "cell_type": "markdown",
   "metadata": {},
   "source": [
    "# Mott scattering\n",
    "\n",
    "We can now recreate calculations in QED. This example is Mott scattering, as Griffiths lays out in example 7.5 to 7.7 \n",
    "\n",
    "The first Feynmann diagram for electron-muon scattering gives, after using Casimirs trick, the amplitude\n",
    "$$\n",
    "\\langle | \\mathcal{M} |^2 \\rangle = \n",
    "\\frac{g_e^4}{4 (p_1 - p_4)^2} \n",
    "\\mathrm{Tr}\\left[ \\gamma^\\mu (\\gamma_\\nu p_3^\\nu - m_1) \\gamma^\\sigma (\\gamma_\\rho p_1^\\rho - m_1) \\right] \n",
    "\\mathrm{Tr}\\left[ \\gamma_\\mu (\\gamma_\\nu p_2^\\nu - m_2) \\gamma_\\sigma (\\gamma_\\rho p_4^\\rho - m_2) \\right]\n",
    "$$\n",
    "\n",
    "First, we construc a Array of momenta"
   ]
  },
  {
   "cell_type": "code",
   "execution_count": 9,
   "metadata": {},
   "outputs": [
    {
     "data": {
      "text/latex": [
       "$\\displaystyle \\left[\\begin{matrix}p^{0}_1 & p^{1}_1 & p^{2}_1 & p^{3}_1\\\\p^{0}_2 & p^{1}_2 & p^{2}_2 & p^{3}_2\\\\p^{0}_3 & p^{1}_3 & p^{2}_3 & p^{3}_3\\\\p^{0}_4 & p^{1}_4 & p^{2}_4 & p^{3}_4\\end{matrix}\\right]$"
      ],
      "text/plain": [
       "[[p^{0}_1, p^{1}_1, p^{2}_1, p^{3}_1], [p^{0}_2, p^{1}_2, p^{2}_2, p^{3}_2], [p^{0}_3, p^{1}_3, p^{2}_3, p^{3}_3], [p^{0}_4, p^{1}_4, p^{2}_4, p^{3}_4]]"
      ]
     },
     "execution_count": 9,
     "metadata": {},
     "output_type": "execute_result"
    }
   ],
   "source": [
    "num_vec = 4\n",
    "p = sp.Array([\n",
    "    sp.symbols(\"p^{\" + str(i) + \"}_\" + str(j+1)) for j in range(num_vec) \n",
    "    for i in range(dim)\n",
    "]).reshape(num_vec, dim)\n",
    "\n",
    "p_ = sp.Array([prod(g, p[i]) for i in range(num_vec)])\n",
    "p"
   ]
  },
  {
   "cell_type": "code",
   "execution_count": 10,
   "metadata": {},
   "outputs": [
    {
     "data": {
      "text/latex": [
       "$\\displaystyle \\left[\\begin{matrix}- m_{1} + p^{0}_1 & 0 & - p^{3}_1 & - p^{1}_1 + i p^{2}_1\\\\0 & - m_{1} + p^{0}_1 & - p^{1}_1 - i p^{2}_1 & p^{3}_1\\\\p^{3}_1 & p^{1}_1 - i p^{2}_1 & - m_{1} - p^{0}_1 & 0\\\\p^{1}_1 + i p^{2}_1 & - p^{3}_1 & 0 & - m_{1} - p^{0}_1\\end{matrix}\\right]$"
      ],
      "text/plain": [
       "[[-m_1 + p^{0}_1, 0, -p^{3}_1, -p^{1}_1 + I*p^{2}_1], [0, -m_1 + p^{0}_1, -p^{1}_1 - I*p^{2}_1, p^{3}_1], [p^{3}_1, p^{1}_1 - I*p^{2}_1, -m_1 - p^{0}_1, 0], [p^{1}_1 + I*p^{2}_1, -p^{3}_1, 0, -m_1 - p^{0}_1]]"
      ]
     },
     "execution_count": 10,
     "metadata": {},
     "output_type": "execute_result"
    }
   ],
   "source": [
    "m1, m2 = sp.symbols(\"m_1, m_2\")\n",
    "Id = sp.Array(sp.eye(4))\n",
    "slash(p[0]) - m1 * Id"
   ]
  },
  {
   "cell_type": "markdown",
   "metadata": {},
   "source": [
    "We can then take the traces, and vertify that we indeed get 2 dimensional Array, as we would expect from a trace with 2 free space-time indices."
   ]
  },
  {
   "cell_type": "code",
   "execution_count": null,
   "metadata": {},
   "outputs": [],
   "source": [
    "M1 = Tr((γ, slash(p[0]) - m1 * Id, γ, slash(p[2]) - m1 * Id))\n",
    "M2 = Tr((γ, slash(p[1]) - m2 * Id, γ, slash(p[3]) - m2 * Id))\n",
    "sp.simplify(M2)"
   ]
  },
  {
   "cell_type": "markdown",
   "metadata": {},
   "source": [
    "To contract the traces together, we must lower the indices on one of them."
   ]
  },
  {
   "cell_type": "code",
   "execution_count": null,
   "metadata": {},
   "outputs": [],
   "source": [
    "M2_ = prod(g, prod(M2, g))\n",
    "sp.simplify(M2_)"
   ]
  },
  {
   "cell_type": "markdown",
   "metadata": {},
   "source": [
    "The coefficient is the last thing needed for the amplitude. We must "
   ]
  },
  {
   "cell_type": "code",
   "execution_count": null,
   "metadata": {},
   "outputs": [],
   "source": [
    "ge = sp.symbols(\"g_e\")\n",
    "coeff = ge**4 /(4 * dot(p[0] - p[2], p_[0] - p_[2])**2)\n",
    "sp.simplify(coeff)"
   ]
  },
  {
   "cell_type": "code",
   "execution_count": null,
   "metadata": {},
   "outputs": [],
   "source": [
    "M = coeff * tc(tc(tp(M1, M2_), (0, 3)), (0, 1))\n",
    "sp.simplify(M)"
   ]
  },
  {
   "cell_type": "markdown",
   "metadata": {},
   "source": [
    "What a horrible mess! This is where it would have been better to have an implementation of the abstract algebraic rules. There is no way to factorize this back into a neat formulat with dot products. However, we may insert give som explicit values for the momenta. As Griffiths shows in Example 7.7, we can set\n",
    "$$\n",
    "    p^{(1)} =  [E, p, 0, 0] \\\\\n",
    "    p^{(2)} = [M, 0, 0, 0] \\\\\n",
    "    p^{(3)} = [E, p \\cos(\\theta), p \\sin(\\theta), 0]\\\\\n",
    "    p^{(4)} = [M, 0, 0, 0] \\\\\n",
    "$$"
   ]
  },
  {
   "cell_type": "code",
   "execution_count": null,
   "metadata": {},
   "outputs": [],
   "source": [
    "E, P, theta = sp.symbols(\"E, p, \\\\theta\")\n",
    "\n",
    "p_vals = sp.Array([\n",
    "    [E, P, 0, 0],\n",
    "    [m2, 0, 0, 0],\n",
    "    [E, P * sp.cos(theta), P * sp.sin(theta), 0],\n",
    "    [m2, 0, 0, 0]\n",
    "])\n",
    "p_vals"
   ]
  },
  {
   "cell_type": "code",
   "execution_count": null,
   "metadata": {},
   "outputs": [],
   "source": [
    "v = p_vals[0] - p_vals[2]\n",
    "v_ = prod(g, v)\n",
    "sp.simplify(dot(v, v_)**2)"
   ]
  },
  {
   "cell_type": "markdown",
   "metadata": {},
   "source": [
    "It is then only a matter of substituting in these values, and using that $E = \\sqrt{m_1^2 + p^2}$ to get the final formula."
   ]
  },
  {
   "cell_type": "code",
   "execution_count": null,
   "metadata": {},
   "outputs": [],
   "source": [
    "Ms = M\n",
    "for i in range(num_vec):\n",
    "    for j in range(dim):\n",
    "        Ms = Ms.subs(p[i, j], p_vals[i, j])\n",
    "    \n",
    "Mott = sp.simplify(Ms.subs(E, sp.sqrt(m1**2 + P**2)))\n",
    "Mott"
   ]
  },
  {
   "cell_type": "markdown",
   "metadata": {},
   "source": [
    "With the trig-identities \n",
    "$$\n",
    "    1 - \\cos(\\theta) = 2 \\sin^2(\\theta/2), \\quad 1 + \\cos(\\theta) = 2 \\cos^2(\\theta/2),\n",
    "$$\n",
    "we recover eq. (7.130) in Griffiths, save for some factors $c, \\hbar$."
   ]
  }
 ],
 "metadata": {
  "kernelspec": {
   "display_name": "Python 3",
   "language": "python",
   "name": "python3"
  },
  "language_info": {
   "codemirror_mode": {
    "name": "ipython",
    "version": 3
   },
   "file_extension": ".py",
   "mimetype": "text/x-python",
   "name": "python",
   "nbconvert_exporter": "python",
   "pygments_lexer": "ipython3",
   "version": "3.8.5"
  }
 },
 "nbformat": 4,
 "nbformat_minor": 4
}
